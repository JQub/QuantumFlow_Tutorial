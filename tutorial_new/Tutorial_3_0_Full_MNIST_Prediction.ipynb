{
 "cells": [
  {
   "cell_type": "code",
   "execution_count": 1,
   "source": [
    "is_colab = False\n",
    "import sys\n",
    "if is_colab:\n",
    "    try:\n",
    "        import torch  \n",
    "        print('Module torch was installed')\n",
    "    except ImportError:    \n",
    "        print(\"Installinng torch 1.8.1\")\n",
    "        !pip install -q torch==1.8.1\n",
    "    try:\n",
    "        import torchvision  \n",
    "        print('Module torchvision was installed')\n",
    "    except ImportError:    \n",
    "        print(\"Installinng torchvision 0.4.0\")\n",
    "        !pip install -q torchvision==0.4.0\n",
    "    \n",
    "    try:\n",
    "        import qiskit  \n",
    "        print('Module qiskit was installed')\n",
    "    except ImportError:    \n",
    "        print(\"Installinng qiskit 0.14.0\")\n",
    "        !pip install -q qiskit==0.14.0\n",
    "\n",
    "    !pip install qfnn\n",
    "\n",
    "import torch\n",
    "import torchvision\n",
    "from qiskit import QuantumRegister, QuantumCircuit, ClassicalRegister\n",
    "from qiskit.extensions import XGate, UnitaryGate\n",
    "\n",
    "import qiskit\n",
    "\n",
    "from qfnn.qf_fb.q_output import fire_ibmq,analyze\n",
    "from qfnn.qf_fb.c_input import load_data,to_quantum_matrix,ToQuantumData\n",
    "from qfnn.qf_circ.gates import ExtendGate"
   ],
   "outputs": [],
   "metadata": {
    "pycharm": {
     "is_executing": false
    }
   }
  },
  {
   "cell_type": "code",
   "execution_count": 2,
   "source": [
    "\n",
    "################ Zhirui on 12-30-2020 ################\n",
    "# Parameters of settings\n",
    "######################################################\n",
    "interest_num = [3,6]\n",
    "img_size = 4\n",
    " # how many samples per batch \n",
    "batch_size = 1 \n",
    "inference_batch_size = 1\n",
    "\n",
    "\n",
    "################ Zhirui on 12-30-2020 ################\n",
    "# path\n",
    "######################################################\n",
    "if is_colab:\n",
    "    data_path = '/content/data' #mnist  path\n",
    "else: \n",
    "    data_path = '/home/hzr/Software/quantum/qc_mnist/pytorch/data'\n",
    "\n",
    "################ Zhirui on 12-30-2020 ################\n",
    "#load data and do data preparation\n",
    "######################################################\n",
    "\n",
    "train_loader, test_loader = load_data(interest_num,data_path,False,img_size,batch_size,inference_batch_size,False)\n",
    "\n",
    "for batch_idx, (data, target) in enumerate(test_loader):\n",
    "    torch.set_printoptions(threshold=sys.maxsize)\n",
    "    print(\"Batch Id: {}, Target: {}\".format(batch_idx,target))\n",
    "    quantum_matrix = to_quantum_matrix(data)\n",
    "    to_quantum_data = ToQuantumData(img_size)\n",
    "    quantum_data = to_quantum_data(data)\n",
    "    break\n"
   ],
   "outputs": [
    {
     "output_type": "stream",
     "name": "stdout",
     "text": [
      "Batch Id: 0, Target: tensor([0])\n"
     ]
    }
   ],
   "metadata": {
    "pycharm": {
     "is_executing": false
    }
   }
  },
  {
   "cell_type": "code",
   "execution_count": 3,
   "source": [
    "################ Weiwen on 12-30-2020 ################\n",
    "# Parameters of the trained model\n",
    "# The training procedure will be found in another repo\n",
    "# https://github.com/weiwenjiang/QuantumFlow\n",
    "######################################################\n",
    "\n",
    "# Model initialization\n",
    "weight_1_1 = torch.tensor([1.,  1.,  1.,  1.,  1.,  1.,  1., -1.,  1., -1.,  1., -1.,  1.,  1.,    1.,  1.])\n",
    "weight_1_2 = torch.tensor([-1., -1., -1., -1., -1., -1., -1., -1., -1.,  1., -1.,  1., -1., -1.,-1., -1.])\n",
    "\n",
    "weight_2_1 = torch.tensor([1.,  -1.])\n",
    "norm_flag_1 = True\n",
    "norm_para_1 = torch.tensor(0.3060)\n",
    "\n",
    "weight_2_2 = torch.tensor([-1.,  -1.])\n",
    "norm_flag_2 = False\n",
    "norm_para_2 = torch.tensor(0.6940)"
   ],
   "outputs": [],
   "metadata": {
    "pycharm": {
     "is_executing": false
    }
   }
  },
  {
   "cell_type": "code",
   "execution_count": 4,
   "source": [
    "################ Weiwen on 12-30-2020 ################\n",
    "# Quantum circuit implementation\n",
    "######################################################\n",
    "\n",
    "# From Listing 2: creat the qubits to hold data\n",
    "inp_1 = QuantumRegister(4,\"in1_qbit\")\n",
    "inp_2 = QuantumRegister(4,\"in2_qbit\")\n",
    "circ = QuantumCircuit(inp_1,inp_2)\n",
    "data_matrix = quantum_matrix\n",
    "circ.append(UnitaryGate(data_matrix, label=\"Input\"), inp_1[0:4])\n",
    "circ.append(UnitaryGate(data_matrix, label=\"Input\"), inp_2[0:4])\n",
    "\n",
    "# From Listing 3: create auxiliary qubits\n",
    "aux = QuantumRegister(2,\"aux_qbit\")\n",
    "circ.add_register(aux)\n",
    "\n",
    "# From Listing 4: create output qubits for the first layer (hidden neurons)\n",
    "hidden_neurons = QuantumRegister(2,\"hidden_qbits\")\n",
    "circ.add_register(hidden_neurons)\n",
    "\n",
    "\n",
    "# From Listing 3: to multiply inputs and weights on quantum circuit\n",
    "if weight_1_1.sum()<0:\n",
    "    weight_1_1 = weight_1_1*-1\n",
    "idx = 0\n",
    "for idx in range(weight_1_1.flatten().size()[0]):\n",
    "    if weight_1_1[idx]==-1:\n",
    "        state = \"{0:b}\".format(idx).zfill(4)\n",
    "        ExtendGate.neg_weight_gate(circ,inp_1,aux,state)\n",
    "        circ.barrier()\n",
    "\n",
    "if weight_1_2.sum()<0:\n",
    "    weight_1_2 = weight_1_2*-1\n",
    "idx = 0\n",
    "for idx in range(weight_1_2.flatten().size()[0]):\n",
    "    if weight_1_2[idx]==-1:\n",
    "        state = \"{0:b}\".format(idx).zfill(4)\n",
    "        ExtendGate.neg_weight_gate(circ,inp_2,aux,state)\n",
    "        circ.barrier()\n",
    "        \n",
    "# From Listing 4: applying the quadratic function on the weighted sum\n",
    "circ.h(inp_1)\n",
    "circ.x(inp_1)\n",
    "ExtendGate.ccccx(circ,inp_1[0],inp_1[1],inp_1[2],inp_1[3],hidden_neurons[0],aux[0],aux[1])\n",
    "\n",
    "circ.h(inp_2)\n",
    "circ.x(inp_2)\n",
    "ExtendGate.ccccx(circ,inp_2[0],inp_2[1],inp_2[2],inp_2[3],hidden_neurons[1],aux[0],aux[1])\n",
    "\n",
    "\n",
    "print(\"Hidden layer created!\")"
   ],
   "outputs": [
    {
     "output_type": "stream",
     "name": "stdout",
     "text": [
      "Hidden layer created!\n"
     ]
    }
   ],
   "metadata": {
    "scrolled": true,
    "pycharm": {
     "is_executing": false
    }
   }
  },
  {
   "cell_type": "code",
   "execution_count": 5,
   "source": [
    "################ Weiwen on 12-30-2020 ################\n",
    "# Quantum circuit implementation of the output layer\n",
    "# fundamentals, please see our Nature Communication\n",
    "# paper (P-LYR) https://arxiv.org/pdf/2006.14815.pdf\n",
    "######################################################\n",
    "\n",
    "inter_q_1 = QuantumRegister(1,\"inter_q_1_qbits\")\n",
    "norm_q_1 = QuantumRegister(1,\"norm_q_1_qbits\")\n",
    "out_q_1 = QuantumRegister(1,\"out_q_1_qbits\")\n",
    "circ.add_register(inter_q_1,norm_q_1,out_q_1)\n",
    "\n",
    "circ.barrier()\n",
    "\n",
    "if weight_2_1.sum()<0:\n",
    "    weight_2_1 = weight_2_1*-1\n",
    "idx = 0\n",
    "for idx in range(weight_2_1.flatten().size()[0]):\n",
    "    if weight_2_1[idx]==-1:\n",
    "        circ.x(hidden_neurons[idx])\n",
    "circ.h(inter_q_1)\n",
    "circ.cz(hidden_neurons[0],inter_q_1)\n",
    "circ.x(inter_q_1)\n",
    "circ.cz(hidden_neurons[1],inter_q_1)\n",
    "circ.x(inter_q_1)\n",
    "circ.h(inter_q_1)\n",
    "circ.x(inter_q_1)\n",
    "\n",
    "circ.barrier()\n",
    "\n",
    "norm_init_rad = float(norm_para_1.sqrt().arcsin()*2)\n",
    "circ.ry(norm_init_rad,norm_q_1)\n",
    "if norm_flag_1:\n",
    "    circ.cx(inter_q_1,out_q_1)\n",
    "    circ.x(inter_q_1)\n",
    "    circ.ccx(inter_q_1,norm_q_1,out_q_1)\n",
    "else:\n",
    "    circ.ccx(inter_q_1,norm_q_1,out_q_1)\n",
    "\n",
    "for idx in range(weight_2_1.flatten().size()[0]):\n",
    "    if weight_2_1[idx]==-1:\n",
    "        circ.x(hidden_neurons[idx])\n",
    "\n",
    "circ.barrier()\n",
    "\n",
    "\n",
    "\n",
    "\n",
    "inter_q_2 = QuantumRegister(1,\"inter_q_2_qbits\")\n",
    "norm_q_2 = QuantumRegister(1,\"norm_q_2_qbits\")\n",
    "out_q_2 = QuantumRegister(1,\"out_q_2_qbits\")\n",
    "circ.add_register(inter_q_2,norm_q_2,out_q_2)\n",
    "\n",
    "circ.barrier()\n",
    "\n",
    "if weight_2_2.sum()<0:\n",
    "    weight_2_2 = weight_2_2*-1\n",
    "idx = 0\n",
    "for idx in range(weight_2_2.flatten().size()[0]):\n",
    "    if weight_2_2[idx]==-1:\n",
    "        circ.x(hidden_neurons[idx])\n",
    "circ.h(inter_q_2)\n",
    "circ.cz(hidden_neurons[0],inter_q_2)\n",
    "circ.x(inter_q_2)\n",
    "circ.cz(hidden_neurons[1],inter_q_2)\n",
    "circ.x(inter_q_2)\n",
    "circ.h(inter_q_2)\n",
    "circ.x(inter_q_2)\n",
    "\n",
    "circ.barrier()\n",
    "\n",
    "norm_init_rad = float(norm_para_2.sqrt().arcsin()*2)\n",
    "circ.ry(norm_init_rad,norm_q_2)\n",
    "if norm_flag_2:\n",
    "    circ.cx(inter_q_2,out_q_2)\n",
    "    circ.x(inter_q_2)\n",
    "    circ.ccx(inter_q_2,norm_q_2,out_q_2)\n",
    "else:\n",
    "    circ.ccx(inter_q_2,norm_q_2,out_q_2)\n",
    "\n",
    "for idx in range(weight_2_2.flatten().size()[0]):\n",
    "    if weight_2_2[idx]==-1:\n",
    "        circ.x(hidden_neurons[idx])\n",
    "\n",
    "circ.barrier()\n",
    "\n",
    "c_reg = ClassicalRegister(2,\"reg\")\n",
    "circ.add_register(c_reg)\n",
    "circ.measure(out_q_1,c_reg[0])\n",
    "circ.measure(out_q_2,c_reg[1])\n",
    "\n",
    "print(\"Output layer created!\")"
   ],
   "outputs": [
    {
     "output_type": "stream",
     "name": "stdout",
     "text": [
      "Output layer created!\n"
     ]
    }
   ],
   "metadata": {
    "pycharm": {
     "is_executing": false
    }
   }
  },
  {
   "cell_type": "code",
   "execution_count": 6,
   "source": [
    "################ Weiwen on 12-30-2020 ################\n",
    "# Quantum simulation\n",
    "######################################################\n",
    "\n",
    "# From Listing 6: execute the quantum circuit to obtain the results\n",
    "qc_shots=8192\n",
    "counts = fire_ibmq(circ,qc_shots,True)\n",
    "(mycount,bits) = analyze(counts)\n",
    "class_prob=[]\n",
    "for b in range(bits):\n",
    "    class_prob.append(float(mycount[b])/qc_shots)\n"
   ],
   "outputs": [],
   "metadata": {
    "pycharm": {
     "is_executing": false
    }
   }
  },
  {
   "cell_type": "code",
   "execution_count": 7,
   "source": [
    "print(class_prob)\n",
    "print(\"Prediction class: {}\".format(class_prob.index(max(class_prob))))\n",
    "print(\"Target class: {}\".format(target[0]))\n",
    "if class_prob.index(max(class_prob))==target[0]:\n",
    "    print(\"Correct prediction\")\n",
    "else:\n",
    "    print(\"Incorrect prediction\")"
   ],
   "outputs": [
    {
     "output_type": "stream",
     "name": "stdout",
     "text": [
      "[0.6141357421875, 0.38134765625]\n",
      "Prediction class: 0\n",
      "Target class: 0\n",
      "Correct prediction\n"
     ]
    }
   ],
   "metadata": {
    "pycharm": {
     "is_executing": false
    }
   }
  }
 ],
 "metadata": {
  "kernelspec": {
   "name": "python3",
   "display_name": "Python 3.8.10 64-bit ('qf': conda)"
  },
  "language_info": {
   "codemirror_mode": {
    "name": "ipython",
    "version": 3
   },
   "file_extension": ".py",
   "mimetype": "text/x-python",
   "name": "python",
   "nbconvert_exporter": "python",
   "pygments_lexer": "ipython3",
   "version": "3.8.10"
  },
  "pycharm": {
   "stem_cell": {
    "cell_type": "raw",
    "source": [],
    "metadata": {
     "collapsed": false
    }
   }
  },
  "interpreter": {
   "hash": "f24048f0d5bdb0ff49c5e7c8a9899a65bc3ab13b0f32660a2227453ca6b95fd8"
  }
 },
 "nbformat": 4,
 "nbformat_minor": 4
}