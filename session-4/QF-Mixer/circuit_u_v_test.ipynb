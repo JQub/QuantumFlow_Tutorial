{
 "cells": [
  {
   "cell_type": "markdown",
   "source": [
    "# How to build the circuit of U-layer + v-layer "
   ],
   "metadata": {
    "collapsed": false,
    "pycharm": {
     "name": "#%% md\n"
    }
   }
  },
  {
   "cell_type": "markdown",
   "source": [
    "## Prepare environment and  define parameters "
   ],
   "metadata": {}
  },
  {
   "cell_type": "code",
   "execution_count": null,
   "source": [
    "is_colab = False\n",
    "import sys\n",
    "if is_colab:\n",
    "    !pip install -q torch==1.8.1\n",
    "    !pip install -q torchvision==0.4.0\n",
    "    !pip install -q qiskit==0.20.0\n",
    "    !pip install qfnn\n",
    "    !wget --no-check-certificate 'https://docs.google.com/uc?export=download&id=1w9VRv0iVfsH20Kb_MkF3yFhFeiYDVy5n' -O model.tar.gz\n",
    "    !tar zxvf /content/model.tar.gz\n",
    "    \n",
    "import torch\n",
    "from qiskit import  QuantumCircuit, ClassicalRegister\n",
    "import numpy as np\n",
    "import functools\n",
    "from qfnn.qf_fb.q_output import fire_ibmq,analyze,add_measure\n",
    "from qfnn.qf_circ.u_lyr_circ import U_LYR_Circ\n",
    "from qfnn.qf_circ.v_lyr_circ import V_LYR_Circ\n",
    "from qfnn.qf_net.utils import binarize\n",
    "from qfnn.qf_fb.c_input import load_data,to_quantum_matrix\n",
    "from qfnn.qf_fb.c_qf_mixer import Net\n",
    "from qfnn.qf_fb.c_input import ToQuantumData\n",
    "print = functools.partial(print, flush=True)\n",
    "\n",
    "################ Zhirui on 12-30-2020 ################\n",
    "# path\n",
    "# remember to change the path on your computer\n",
    "######################################################\n",
    "if is_colab:\n",
    "    data_path = '/content/data' #mnist  path\n",
    "    resume_path = '/content/model/u4_v2/model_best.tar' #model path\n",
    "else:\n",
    "    data_path = '/home/hzr/Software/quantum/qc_mnist/pytorch/data' #mnist  path\n",
    "    resume_path = '/home/hzr/Software/quantum/QuantumFlow_Tutorial/model/u4_v2/model_best.tar' #model path"
   ],
   "outputs": [],
   "metadata": {
    "collapsed": false,
    "pycharm": {
     "name": "#%%\n",
     "is_executing": true
    }
   }
  },
  {
   "cell_type": "code",
   "execution_count": null,
   "source": [
    "\n",
    "################ Zhirui on 12-30-2020 ################\n",
    "# Parameters of settings\n",
    "######################################################\n",
    "interest_num = [3,6]\n",
    "img_size = 4\n",
    "batch_size = 32# how many samples per batch to load\n",
    "inference_batch_size = 1\n",
    "isppd = False #is prepared data\n"
   ],
   "outputs": [],
   "metadata": {}
  },
  {
   "cell_type": "markdown",
   "source": [
    "## Load data"
   ],
   "metadata": {}
  },
  {
   "cell_type": "code",
   "execution_count": null,
   "source": [
    "################ Zhirui on 12-30-2020 ################\n",
    "# load data.\n",
    "######################################################\n",
    "\n",
    "train_loader, test_loader = load_data(interest_num,data_path,isppd,img_size,batch_size,inference_batch_size,False)\n",
    "for batch_idx, (data, target) in enumerate(test_loader):\n",
    "    torch.set_printoptions(threshold=sys.maxsize)\n",
    "    print(\"Batch Id: {}, Target: {}\".format(batch_idx,target))\n",
    "    quantum_matrix = to_quantum_matrix(data)\n",
    "    break"
   ],
   "outputs": [],
   "metadata": {}
  },
  {
   "cell_type": "markdown",
   "source": [
    "## Inference"
   ],
   "metadata": {}
  },
  {
   "cell_type": "markdown",
   "source": [
    "### load model parameter"
   ],
   "metadata": {}
  },
  {
   "cell_type": "code",
   "execution_count": null,
   "source": [
    "\n",
    "\n",
    "# Model initialization\n",
    "\n",
    "checkpoint = torch.load(resume_path, map_location='cpu')\n",
    "weight = checkpoint['state_dict']['fc0.weight']\n",
    "theta = checkpoint['state_dict']['fc2.theta']\n"
   ],
   "outputs": [],
   "metadata": {
    "collapsed": false,
    "pycharm": {
     "name": "#%%\n",
     "is_executing": true
    }
   }
  },
  {
   "cell_type": "markdown",
   "source": [
    "### build the network : the first layer :u-layer"
   ],
   "metadata": {}
  },
  {
   "cell_type": "code",
   "execution_count": null,
   "source": [
    "################ Weiwen on 12-30-2020 ################\n",
    "# Generate the circuit of u-layer\n",
    "######################################################\n",
    "\n",
    "#define your input and output number\n",
    "u_layer = U_LYR_Circ(4,4) \n",
    "#init circuit\n",
    "circuit = QuantumCircuit()\n",
    "#add input qubit to your circuit\n",
    "inps = u_layer.add_input_qubits(circuit)\n",
    "\n",
    "#add auxiliary qubit to your circuit\n",
    "aux =u_layer.add_aux(circuit)\n",
    "\n",
    "#add output qubit to your circuit\n",
    "u_layer_out_qubits = u_layer.add_out_qubits(circuit)\n",
    "\n",
    "#add u-layer to your circuit\n",
    "u_layer.forward(circuit,binarize(weight),inps,u_layer_out_qubits,quantum_matrix,aux)\n",
    "\n",
    "#add measurement\n",
    "circuit.barrier()\n",
    "add_measure(circuit,u_layer_out_qubits,'reg')\n",
    "\n",
    "#show your circuit\n",
    "circuit.draw('text',fold=300)\n",
    "\n"
   ],
   "outputs": [],
   "metadata": {
    "collapsed": false,
    "pycharm": {
     "name": "#%%\n",
     "is_executing": true
    }
   }
  },
  {
   "cell_type": "markdown",
   "source": [
    "### u-layer simulation"
   ],
   "metadata": {}
  },
  {
   "cell_type": "code",
   "execution_count": null,
   "source": [
    "################ hzr on 12-30-2020 ################\n",
    "# u-layer simulation\n",
    "######################################################\n",
    "\n",
    "qc_shots=10000\n",
    "u_layer_counts = fire_ibmq(circuit,qc_shots,True)\n",
    "print(u_layer_counts)\n",
    "(u_layer_counts,u_layer_bits) = analyze(u_layer_counts)\n",
    "\n"
   ],
   "outputs": [],
   "metadata": {
    "collapsed": false,
    "pycharm": {
     "name": "#%%\n",
     "is_executing": true
    }
   }
  },
  {
   "cell_type": "markdown",
   "source": [
    "### build the network : the second layer :v-layer"
   ],
   "metadata": {}
  },
  {
   "cell_type": "code",
   "execution_count": null,
   "source": [
    "\n",
    "import math\n",
    "#init new circuit\n",
    "circuit2 = QuantumCircuit()\n",
    "vqc = V_LYR_Circ(4,1)\n",
    "v_inputs = vqc.add_input_qubits(circuit2)\n",
    "\n",
    "#init state by u-layer-measurement (angle encoding)\n",
    "for b in range(u_layer_bits):\n",
    "    prob =float(u_layer_counts[b])/qc_shots\n",
    "    circuit2.ry(2*math.asin(math.sqrt(prob)),b)\n",
    "\n",
    "#add vqc to the circuit\n",
    "vqc.forward(circuit2,v_inputs,'v10',np.array(theta,dtype=np.double))   \n",
    "\n",
    "\n",
    "#add measurement to the circuit2\n",
    "circuit2.barrier()\n",
    "add_measure(circuit2,[v_inputs[0][3],v_inputs[0][2]],'reg_v')\n",
    "circuit2.draw('text',300)"
   ],
   "outputs": [],
   "metadata": {}
  },
  {
   "cell_type": "markdown",
   "source": [
    "### v-layer simulation"
   ],
   "metadata": {}
  },
  {
   "cell_type": "code",
   "execution_count": null,
   "source": [
    "\n",
    "opt_counts = fire_ibmq(circuit2,qc_shots,True)\n",
    "print(opt_counts)\n",
    "(opt_mycount,bits) = analyze(opt_counts)\n",
    "opt_class_prob=[]\n",
    "\n",
    "for b in range(2):\n",
    "    opt_class_prob.append(float(opt_mycount[b])/qc_shots)\n",
    "\n",
    "print(\"Result of u+v:\",opt_class_prob)\n",
    "print(\"Prediction class: {}\".format(opt_class_prob.index(max(opt_class_prob))))\n",
    "print(\"Target class: {}\".format(target[0]))\n",
    "if opt_class_prob.index(max(opt_class_prob))==target[0]:\n",
    "    print(\"Correct prediction\")\n",
    "else:\n",
    "    print(\"Incorrect prediction\")\n",
    "print(\"=\"*30)\n"
   ],
   "outputs": [],
   "metadata": {}
  },
  {
   "cell_type": "markdown",
   "source": [
    "## classical inference"
   ],
   "metadata": {}
  },
  {
   "cell_type": "code",
   "execution_count": null,
   "source": [
    "\n",
    "neural_in_layers = 'u:4,p2a:16,v:2'\n",
    "layers = []\n",
    "for item1 in neural_in_layers.split(\",\"):\n",
    "    x= item1.split(\":\")\n",
    "    layer =[]\n",
    "    layer.append(x[0].strip())\n",
    "    layer.append(int(x[1].strip()))\n",
    "    layers.append(layer)\n",
    "\n",
    "model = Net(img_size,layers,False,False)\n",
    "model.load_state_dict(checkpoint[\"state_dict\"])\n",
    "to_quantum_data = ToQuantumData(img_size)\n",
    "output_data = to_quantum_data(data)\n",
    "output = model.forward(output_data,False)\n",
    "print(\"classical inference result :\",output)"
   ],
   "outputs": [],
   "metadata": {}
  }
 ],
 "metadata": {
  "kernelspec": {
   "name": "python3",
   "display_name": "Python 3.8.10 64-bit ('qf': conda)"
  },
  "language_info": {
   "name": "python",
   "version": "3.8.10",
   "mimetype": "text/x-python",
   "codemirror_mode": {
    "name": "ipython",
    "version": 3
   },
   "pygments_lexer": "ipython3",
   "nbconvert_exporter": "python",
   "file_extension": ".py"
  },
  "pycharm": {
   "stem_cell": {
    "cell_type": "raw",
    "source": [],
    "metadata": {
     "collapsed": false
    }
   }
  },
  "interpreter": {
   "hash": "f24048f0d5bdb0ff49c5e7c8a9899a65bc3ab13b0f32660a2227453ca6b95fd8"
  }
 },
 "nbformat": 4,
 "nbformat_minor": 2
}