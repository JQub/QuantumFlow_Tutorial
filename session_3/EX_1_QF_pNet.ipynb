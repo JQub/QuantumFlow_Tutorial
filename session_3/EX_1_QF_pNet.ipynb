{
 "nbformat": 4,
 "nbformat_minor": 2,
 "metadata": {
  "kernelspec": {
   "name": "python3",
   "display_name": "Python 3.8.10 64-bit ('qf': conda)"
  },
  "language_info": {
   "name": "python",
   "version": "3.8.10",
   "mimetype": "text/x-python",
   "codemirror_mode": {
    "name": "ipython",
    "version": 3
   },
   "pygments_lexer": "ipython3",
   "nbconvert_exporter": "python",
   "file_extension": ".py"
  },
  "interpreter": {
   "hash": "f24048f0d5bdb0ff49c5e7c8a9899a65bc3ab13b0f32660a2227453ca6b95fd8"
  },
  "colab": {
   "name": "Copy of circuit_u_p_test.ipynb",
   "provenance": [],
   "collapsed_sections": []
  }
 },
 "cells": [
  {
   "cell_type": "markdown",
   "source": [
    "# How to build p-net\n",
    "## Prepare environment and define parameters"
   ],
   "metadata": {
    "collapsed": false,
    "pycharm": {
     "name": "#%% md\n"
    },
    "id": "1O9dXs9SskiU"
   }
  },
  {
   "cell_type": "code",
   "execution_count": null,
   "source": [
    "is_colab = False\n",
    "import sys\n",
    "\n",
    "if is_colab:\n",
    "    !pip install -q torch==1.9.0\n",
    "    !pip install -q torchvision==0.10.0\n",
    "    !pip install -q qiskit==0.20.0\n",
    "    !pip install qfnn\n",
    "    !wget --no-check-certificate 'https://docs.google.com/uc?export=download&id=1w9VRv0iVfsH20Kb_MkF3yFhFeiYDVy5n' -O model.tar.gz\n",
    "    !tar zxvf /content/model.tar.gz\n",
    "\n",
    "import torch\n",
    "\n",
    "from qiskit import  QuantumCircuit, ClassicalRegister\n",
    "import functools\n",
    "\n",
    "\n",
    "from qfnn.qf_fb.q_output import fire_ibmq,analyze,add_measure\n",
    "from qfnn.qf_circ.p_lyr_circ import P_LYR_Circ,P_Neuron_Circ\n",
    "from qfnn.qf_fb.c_input import load_data,to_quantum_matrix\n",
    "\n",
    "from qfnn.qf_net.p_lyr import P_LYR\n",
    "import torch.nn as nn\n",
    "print = functools.partial(print, flush=True)\n"
   ],
   "outputs": [],
   "metadata": {
    "pycharm": {
     "name": "#%%\n",
     "is_executing": true
    },
    "id": "vcmROWC_skiY",
    "colab": {
     "base_uri": "https://localhost:8080/"
    },
    "outputId": "35b4c7e5-ee38-4c1e-ea4c-52efec4a184c"
   }
  },
  {
   "cell_type": "markdown",
   "source": [
    "## Inference\n",
    "### Get parameters\n",
    "\n",
    "At beginning, we need to extract the weights and related parameters\n",
    "from the model. These parameters will be used to build the quantum circuit."
   ],
   "metadata": {
    "id": "Tyw6K12Nskic"
   }
  },
  {
   "cell_type": "code",
   "execution_count": null,
   "source": [
    "# Model initialization\n",
    "weight_1 = torch.tensor([[1.,  -1.,  1.,  1.],[-1., 1., 1., 1.]])\n",
    "weight_2 = torch.tensor([[1.,  -1.],[-1.,  -1.]])\n",
    "angle = [0,0,0,0]\n",
    "norm_flag = [True,False]\n",
    "norm_para = torch.tensor([0.3060,0.6940])"
   ],
   "outputs": [],
   "metadata": {
    "pycharm": {
     "name": "#%%\n",
     "is_executing": true
    },
    "id": "Z-bFDYMTskid"
   }
  },
  {
   "cell_type": "markdown",
   "source": [
    "### An example to implement a P-LYR based quantum neuron\n",
    "\n",
    "In the following cell, we will use *P_Neuron_Circ* to create the circuit for the\n",
    "quantum neuron designed based on P-LYR in [QuantumFlow](https://www.nature.com/articles/s41467-020-20729-5).\n",
    "\n",
    "**Note**: we will use the weight *weight_1* for embedding the weights to the circuit.\n"
   ],
   "metadata": {
    "collapsed": false
   }
  },
  {
   "cell_type": "code",
   "execution_count": null,
   "outputs": [],
   "source": [
    "#create circuit\n",
    "circuit_demo = QuantumCircuit()\n",
    "\n",
    "#init circuit\n",
    "p_layer_example = P_Neuron_Circ(4)\n",
    "\n",
    "#create qubits to be invovled and store them\n",
    "inps = p_layer_example.add_input_qubits(circuit_demo,'p_input')\n",
    "aux =p_layer_example.add_aux(circuit_demo,'aux_qubit')\n",
    "output = p_layer_example.add_out_qubits(circuit_demo,'p_out_qubit')\n",
    "\n",
    "#add p-neuron to the circuit\n",
    "p_layer_example.forward(circuit_demo,[weight_1[0]],inps[0],output,angle,aux)\n",
    "\n",
    "#show your circuit\n",
    "print(circuit_demo)"
   ],
   "metadata": {
    "collapsed": false,
    "pycharm": {
     "name": "#%%\n"
    }
   }
  },
  {
   "cell_type": "markdown",
   "source": [
    "### Build the QF-pNet network\n",
    "\n",
    "In the following cell, we build the first layer of the QF-pNet using the qfnn library."
   ],
   "metadata": {}
  },
  {
   "cell_type": "code",
   "execution_count": null,
   "source": [
    "input_list = []\n",
    "aux_list = []\n",
    "output_list = []\n",
    "circuit = QuantumCircuit()\n",
    "for i in range(2):\n",
    "    #init circuit\n",
    "    p_layer = P_Neuron_Circ(4)\n",
    "\n",
    "    #create and store qubits\n",
    "    inps = p_layer.add_input_qubits(circuit,'p'+str(i)+\"_input\")\n",
    "    aux =p_layer.add_aux(circuit,'aux'+str(i)+\"_qubit\")\n",
    "    output = p_layer.add_out_qubits(circuit,'p_out_'+str(i)+\"_qubit\")\n",
    "\n",
    "    input_list.append(inps)\n",
    "    aux_list.append(aux)\n",
    "    output_list.append(output)\n",
    "\n",
    "    #add p-neuron to your circuit\n",
    "    p_layer.forward(circuit,[weight_1[i]],input_list[i][0],output_list[i],angle,aux_list[i])\n",
    "\n",
    "circuit.barrier()\n",
    "circuit.draw('text',300)\n"
   ],
   "outputs": [],
   "metadata": {
    "pycharm": {
     "name": "#%%\n",
     "is_executing": true
    },
    "id": "KMQV3vdZskid",
    "colab": {
     "base_uri": "https://localhost:8080/",
     "height": 402
    },
    "outputId": "6fdcd867-4b89-48b9-fc0c-216a733e7a11"
   }
  },
  {
   "cell_type": "markdown",
   "source": [
    "Now, we have a one-layer neural network. In the next step, we will on top\n",
    "of this layer to add an output layer to the built quantum circuit.\n",
    "\n",
    "As pointed by [QuantumFlow](https://www.nature.com/articles/s41467-020-20729-5),\n",
    "the last layer can share the inputs. We will use *P_LYR_Circ* for the implementation,\n",
    "where the first parameter shows how many neurons for the input, and the second\n",
    "parameter shows how many neurons for the output.\n",
    "\n",
    "**Note:** since the input of this layer is the output of the previous layer,\n",
    "we do not need new input qubits. But, we will need an addition output qubits, which\n",
    "can be obtained by using the *add_out_qubits* method."
   ],
   "metadata": {
    "collapsed": false,
    "pycharm": {
     "name": "#%% md\n"
    }
   }
  },
  {
   "cell_type": "code",
   "execution_count": null,
   "source": [
    "p_layer = P_LYR_Circ(2,2)\n",
    "\n",
    "# Create output qubits\n",
    "p_layer_output = p_layer.add_out_qubits(circuit)\n",
    "\n",
    "# Build the second layer\n",
    "p_layer.forward(circuit,weight_2,output_list,p_layer_output)\n",
    "\n",
    "# Extract the results at the end of the quantum circuit\n",
    "add_measure(circuit,p_layer_output,'reg')\n",
    "print(\"Output layer created!\")\n",
    "\n",
    "circuit.draw('text',fold =300)"
   ],
   "outputs": [],
   "metadata": {
    "pycharm": {
     "name": "#%%\n",
     "is_executing": true
    },
    "id": "OPxbaex8skie",
    "colab": {
     "base_uri": "https://localhost:8080/",
     "height": 667
    },
    "outputId": "eb212b36-0aa0-4dcb-a2ed-e13635367c5d"
   }
  },
  {
   "cell_type": "markdown",
   "source": [
    "### simulation"
   ],
   "metadata": {}
  },
  {
   "cell_type": "code",
   "execution_count": null,
   "source": [
    "# result\n",
    "qc_shots=8192\n",
    "opt_counts = fire_ibmq(circuit,qc_shots,True)\n",
    "(opt_mycount,bits) = analyze(opt_counts)\n",
    "opt_class_prob=[]\n",
    "for b in range(bits):\n",
    "    opt_class_prob.append(float(opt_mycount[b])/qc_shots)\n",
    "print(\"Simukation Result :\",opt_class_prob)"
   ],
   "outputs": [],
   "metadata": {}
  },
  {
   "cell_type": "markdown",
   "source": [
    "### classical inference"
   ],
   "metadata": {}
  },
  {
   "cell_type": "code",
   "execution_count": null,
   "source": [
    "class Net(nn.Module):\n",
    "    def __init__(self):\n",
    "        super(Net, self).__init__()\n",
    "        self.fc1 =P_LYR(4, 2, bias=False)\n",
    "        self.fc2 =P_LYR(2, 2, bias=False)\n",
    "    def forward(self,x):\n",
    "        x = self.fc1(x)\n",
    "        x = self.fc2(x)\n",
    "        return x\n",
    "\n",
    "model = Net()\n",
    "\n",
    "state_dict= model.state_dict()\n",
    "state_dict[\"fc1.weight\"] = weight_1\n",
    "state_dict[\"fc2.weight\"] = weight_2\n",
    "model.load_state_dict(state_dict)\n",
    "\n",
    "state = torch.tensor([[0,0,0,0]],dtype= torch.float)\n",
    "output = model.forward(state)\n",
    "print(\"classical inference Result :\",output)"
   ],
   "outputs": [],
   "metadata": {}
  }
 ]
}