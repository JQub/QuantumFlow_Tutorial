{
 "nbformat": 4,
 "nbformat_minor": 2,
 "metadata": {
  "kernelspec": {
   "name": "python3",
   "display_name": "Python 3.8.10 64-bit ('qf': conda)"
  },
  "language_info": {
   "name": "python",
   "version": "3.8.10",
   "mimetype": "text/x-python",
   "codemirror_mode": {
    "name": "ipython",
    "version": 3
   },
   "pygments_lexer": "ipython3",
   "nbconvert_exporter": "python",
   "file_extension": ".py"
  },
  "pycharm": {
   "stem_cell": {
    "cell_type": "raw",
    "source": [],
    "metadata": {
     "collapsed": false
    }
   }
  },
  "interpreter": {
   "hash": "f24048f0d5bdb0ff49c5e7c8a9899a65bc3ab13b0f32660a2227453ca6b95fd8"
  },
  "colab": {
   "name": "Copy of circuit_u_p_test.ipynb",
   "provenance": [],
   "collapsed_sections": []
  }
 },
 "cells": [
  {
   "cell_type": "markdown",
   "source": [
    "# How to build p-net"
   ],
   "metadata": {
    "collapsed": false,
    "pycharm": {
     "name": "#%% md\n"
    },
    "id": "1O9dXs9SskiU"
   }
  },
  {
   "cell_type": "markdown",
   "source": [
    "## Prepare environment and  define parameters "
   ],
   "metadata": {
    "id": "gRLFVPd1skiX"
   }
  },
  {
   "cell_type": "code",
   "execution_count": null,
   "source": [
    "is_colab = False\n",
    "import sys\n",
    "\n",
    "if is_colab:\n",
    "    !pip install -q torch==1.9.0\n",
    "    !pip install -q torchvision==0.10.0\n",
    "    !pip install -q qiskit==0.20.0\n",
    "    !pip install qfnn\n",
    "    !wget --no-check-certificate 'https://docs.google.com/uc?export=download&id=1w9VRv0iVfsH20Kb_MkF3yFhFeiYDVy5n' -O model.tar.gz\n",
    "    !tar zxvf /content/model.tar.gz\n",
    "\n",
    "import torch\n",
    "\n",
    "from qiskit import  QuantumCircuit, ClassicalRegister\n",
    "import functools\n",
    "\n",
    "\n",
    "from qfnn.qf_fb.q_output import fire_ibmq,analyze,add_measure\n",
    "from qfnn.qf_circ.p_lyr_circ import P_LYR_Circ,P_Neuron_Circ\n",
    "from qfnn.qf_fb.c_input import load_data,to_quantum_matrix\n",
    "\n",
    "from qfnn.qf_net.p_lyr import P_LYR\n",
    "import torch.nn as nn\n",
    "print = functools.partial(print, flush=True)\n"
   ],
   "outputs": [],
   "metadata": {
    "pycharm": {
     "name": "#%%\n",
     "is_executing": true
    },
    "id": "vcmROWC_skiY",
    "colab": {
     "base_uri": "https://localhost:8080/"
    },
    "outputId": "35b4c7e5-ee38-4c1e-ea4c-52efec4a184c"
   }
  },
  {
   "cell_type": "markdown",
   "source": [
    "## Inference"
   ],
   "metadata": {
    "id": "Tyw6K12Nskic"
   }
  },
  {
   "cell_type": "markdown",
   "source": [
    "### get parameters of the model"
   ],
   "metadata": {}
  },
  {
   "cell_type": "code",
   "execution_count": null,
   "source": [
    "################ Weiwen on 12-30-2020 ################\n",
    "# Parameters of the trained model \n",
    "######################################################\n",
    "\n",
    "# Model initialization\n",
    "weight_1 = torch.tensor([[1.,  -1.,  1.,  1.],[-1., 1., 1., 1.]])\n",
    "weight_2 = torch.tensor([[1.,  -1.],[-1.,  -1.]])\n",
    "angle = [0,0,0,0]\n",
    "norm_flag = [True,False]\n",
    "norm_para = torch.tensor([0.3060,0.6940])\n",
    "\n"
   ],
   "outputs": [],
   "metadata": {
    "pycharm": {
     "name": "#%%\n",
     "is_executing": true
    },
    "id": "Z-bFDYMTskid"
   }
  },
  {
   "cell_type": "markdown",
   "source": [
    "### build the network"
   ],
   "metadata": {}
  },
  {
   "cell_type": "code",
   "execution_count": null,
   "source": [
    "################ Weiwen on 12-30-2020 ################\n",
    "# Generate the circuit of the first p-layer \n",
    "######################################################\n",
    "#define your input and output number\n",
    "input_list = []\n",
    "aux_list = []\n",
    "output_list = []\n",
    "circuit = QuantumCircuit()\n",
    "for i in range(2):\n",
    "    #init circuit\n",
    "    p_layer = P_Neuron_Circ(4) \n",
    "    #add input qubit to your circuit\n",
    "    inps = p_layer.add_input_qubits(circuit,'p'+str(i)+\"_input\")\n",
    "    input_list.append(inps)\n",
    "    #add auxiliary qubit to your circuit\n",
    "    aux =p_layer.add_aux(circuit,'aux'+str(i)+\"_qubit\")\n",
    "    aux_list.append(aux)\n",
    "    #add output qubit to your circuit\n",
    "    output = p_layer.add_out_qubits(circuit,'p_out_'+str(i)+\"_qubit\")\n",
    "    output_list.append(output)\n",
    "    #add p-neuron to your circuit\n",
    "    p_layer.forward(circuit,[weight_1[i]],input_list[i][0],output_list[i],angle,aux_list[i])\n",
    "\n",
    "circuit.draw('text',300)\n",
    "\n"
   ],
   "outputs": [],
   "metadata": {
    "pycharm": {
     "name": "#%%\n",
     "is_executing": true
    },
    "id": "KMQV3vdZskid",
    "colab": {
     "base_uri": "https://localhost:8080/",
     "height": 402
    },
    "outputId": "6fdcd867-4b89-48b9-fc0c-216a733e7a11"
   }
  },
  {
   "cell_type": "code",
   "execution_count": null,
   "source": [
    "################ Weiwen on 12-30-2020 ################\n",
    "# the second p-layer\n",
    "######################################################\n",
    "\n",
    "circuit.barrier()\n",
    "p_layer = P_LYR_Circ(2,2)\n",
    "p_layer_output = p_layer.add_out_qubits(circuit)\n",
    "\n",
    "p_layer.forward(circuit,weight_2,output_list,p_layer_output)\n",
    "\n",
    "add_measure(circuit,p_layer_output,'reg')\n",
    "\n",
    "print(\"Output layer created!\")\n",
    "\n",
    "circuit.draw('text',fold =300)"
   ],
   "outputs": [],
   "metadata": {
    "pycharm": {
     "name": "#%%\n",
     "is_executing": true
    },
    "id": "OPxbaex8skie",
    "colab": {
     "base_uri": "https://localhost:8080/",
     "height": 667
    },
    "outputId": "eb212b36-0aa0-4dcb-a2ed-e13635367c5d"
   }
  },
  {
   "cell_type": "markdown",
   "source": [
    "### simulation"
   ],
   "metadata": {}
  },
  {
   "cell_type": "code",
   "execution_count": null,
   "source": [
    "# result\n",
    "qc_shots=8192\n",
    "opt_counts = fire_ibmq(circuit,qc_shots,True)\n",
    "(opt_mycount,bits) = analyze(opt_counts)\n",
    "opt_class_prob=[]\n",
    "for b in range(bits):\n",
    "    opt_class_prob.append(float(opt_mycount[b])/qc_shots)\n",
    "print(\"Simukation Result :\",opt_class_prob)"
   ],
   "outputs": [],
   "metadata": {}
  },
  {
   "cell_type": "markdown",
   "source": [
    "### classical inference"
   ],
   "metadata": {}
  },
  {
   "cell_type": "code",
   "execution_count": null,
   "source": [
    "class Net(nn.Module):\n",
    "    def __init__(self):\n",
    "        super(Net, self).__init__()\n",
    "        self.fc1 =P_LYR(4, 2, bias=False)\n",
    "        self.fc2 =P_LYR(2, 2, bias=False)\n",
    "    def forward(self,x):\n",
    "        x = self.fc1(x)\n",
    "        x = self.fc2(x)\n",
    "        return x\n",
    "\n",
    "model = Net()\n",
    "\n",
    "state_dict= model.state_dict()\n",
    "state_dict[\"fc1.weight\"] = weight_1\n",
    "state_dict[\"fc2.weight\"] = weight_2\n",
    "model.load_state_dict(state_dict)\n",
    "\n",
    "state = torch.tensor([[0,0,0,0]],dtype= torch.float)\n",
    "output = model.forward(state)\n",
    "print(\"classical inference Result :\",output)"
   ],
   "outputs": [],
   "metadata": {}
  }
 ]
}