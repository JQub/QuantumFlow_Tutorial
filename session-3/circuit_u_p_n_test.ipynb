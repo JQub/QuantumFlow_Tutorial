{
  "nbformat": 4,
  "nbformat_minor": 2,
  "metadata": {
    "kernelspec": {
      "name": "python3",
      "display_name": "Python 3.8.10 64-bit ('qf': conda)"
    },
    "language_info": {
      "name": "python",
      "version": "3.8.10",
      "mimetype": "text/x-python",
      "codemirror_mode": {
        "name": "ipython",
        "version": 3
      },
      "pygments_lexer": "ipython3",
      "nbconvert_exporter": "python",
      "file_extension": ".py"
    },
    "pycharm": {
      "stem_cell": {
        "cell_type": "raw",
        "source": [],
        "metadata": {
          "collapsed": false
        }
      }
    },
    "interpreter": {
      "hash": "f24048f0d5bdb0ff49c5e7c8a9899a65bc3ab13b0f32660a2227453ca6b95fd8"
    },
    "colab": {
      "name": "Copy of circuit_u_p_test.ipynb",
      "provenance": [],
      "collapsed_sections": []
    }
  },
  "cells": [
    {
      "cell_type": "markdown",
      "source": [
        "# How to build the h-net"
      ],
      "metadata": {
        "collapsed": false,
        "pycharm": {
          "name": "#%% md\n"
        },
        "id": "1O9dXs9SskiU"
      }
    },
    {
      "cell_type": "markdown",
      "source": [
        "## Prepare environment and  define parameters "
      ],
      "metadata": {
        "id": "gRLFVPd1skiX"
      }
    },
    {
      "cell_type": "code",
      "execution_count": null,
      "source": [
        "is_colab = False\n",
        "import sys\n",
        "if is_colab:\n",
        "    !pip install -q torch==1.9.0\n",
        "    !pip install -q torchvision==0.10.0\n",
        "    !pip install -q qiskit==0.20.0\n",
        "    !pip install qfnn\n",
        "    !wget --no-check-certificate 'https://docs.google.com/uc?export=download&id=1w9VRv0iVfsH20Kb_MkF3yFhFeiYDVy5n' -O model.tar.gz\n",
        "    !tar zxvf /content/model.tar.gz\n",
        "\n",
        "import torch\n",
        "import torchvision\n",
        "\n",
        "import qiskit\n",
        "from qiskit import  QuantumCircuit, ClassicalRegister\n",
        "import numpy as np\n",
        "import functools\n",
        "\n",
        "\n",
        "from qfnn.qf_fb.q_output import fire_ibmq,analyze,add_measure\n",
        "from qfnn.qf_circ.n_lyr_circ import N_LYR_Circ\n",
        "from qfnn.qf_circ.u_lyr_circ import U_LYR_Circ\n",
        "from qfnn.qf_circ.p_lyr_circ import P_LYR_Circ\n",
        "from qfnn.qf_fb.c_input import load_data,to_quantum_matrix\n",
        "from qfnn.qf_net.utils import binarize\n",
        "from qfnn.qf_fb.c_qf_mixer import Net\n",
        "from qfnn.qf_fb.c_input import ToQuantumData\n",
        "print = functools.partial(print, flush=True)\n",
        "\n",
        "\n",
        "################ Zhirui on 12-30-2020 ################\n",
        "# path \n",
        "# remember to change the path on your computer\n",
        "######################################################\n",
        "if is_colab:\n",
        "    data_path = '/content/data' #mnist  path\n",
        "    resume_path = '/content/model/u2_p2/model_best.tar' #model path\n",
        "else:\n",
        "    data_path = '/home/hzr/Software/quantum/qc_mnist/pytorch/data' #mnist  path\n",
        "    resume_path = '/home/hzr/Software/quantum/QuantumFlow_Tutorial/model/u2_p2_n2/model_best.tar' #model path\n",
        "\n"
      ],
      "outputs": [],
      "metadata": {
        "pycharm": {
          "name": "#%%\n",
          "is_executing": true
        },
        "id": "vcmROWC_skiY",
        "colab": {
          "base_uri": "https://localhost:8080/"
        },
        "outputId": "35b4c7e5-ee38-4c1e-ea4c-52efec4a184c"
      }
    },
    {
      "cell_type": "markdown",
      "source": [
        "## Load data"
      ],
      "metadata": {
        "id": "-r4jJR-lskia"
      }
    },
    {
      "cell_type": "code",
      "execution_count": null,
      "source": [
        "\n",
        "################ Zhirui on 12-30-2020 ################\n",
        "# Parameters of settings\n",
        "######################################################\n",
        "interest_num = [3,6]\n",
        "img_size = 4\n",
        " # how many samples per batch \n",
        "batch_size = 32\n",
        "inference_batch_size = 1\n",
        "\n",
        "\n",
        "\n",
        "################ Zhirui on 12-30-2020 ################\n",
        "# load data.\n",
        "######################################################\n",
        "\n",
        "train_loader, test_loader = load_data(interest_num,data_path,False,img_size,batch_size,inference_batch_size,False)\n",
        "for batch_idx, (data, target) in enumerate(test_loader):\n",
        "    torch.set_printoptions(threshold=sys.maxsize)\n",
        "    print(\"Batch Id: {}, Target: {}\".format(batch_idx,target))\n",
        "    quantum_matrix = to_quantum_matrix(data)\n",
        "    break"
      ],
      "outputs": [],
      "metadata": {
        "id": "ku6VRBGJskib",
        "colab": {
          "base_uri": "https://localhost:8080/"
        },
        "outputId": "49e97e16-209a-4090-ce92-d713a0116fda"
      }
    },
    {
      "cell_type": "markdown",
      "source": [
        "## Inference"
      ],
      "metadata": {
        "id": "Tyw6K12Nskic"
      }
    },
    {
      "cell_type": "markdown",
      "source": [
        "### load model"
      ],
      "metadata": {}
    },
    {
      "cell_type": "code",
      "execution_count": null,
      "source": [
        "################ Weiwen on 12-30-2020 ################\n",
        "# Parameters of the trained model\n",
        "\n",
        "######################################################\n",
        "\n",
        "\n",
        "checkpoint = torch.load(resume_path, map_location='cpu')\n",
        "print(checkpoint['state_dict']['fc0.weight'])\n",
        "print(checkpoint['state_dict']['fc1.weight'])\n",
        "print(checkpoint['state_dict']['fc2.batch.x_l_0_5'])\n",
        "print(checkpoint['state_dict']['fc2.batch.x_g_0_5'])\n",
        "\n",
        "weight_1 = checkpoint['state_dict']['fc0.weight']\n",
        "weight_2 = checkpoint['state_dict']['fc1.weight']\n",
        "norm_flag = checkpoint['state_dict']['fc2.batch.x_l_0_5']\n",
        "norm_para = checkpoint['state_dict']['fc2.batch.x_running_rot']\n",
        "print(norm_para)\n"
      ],
      "outputs": [],
      "metadata": {
        "pycharm": {
          "name": "#%%\n",
          "is_executing": true
        },
        "id": "Z-bFDYMTskid"
      }
    },
    {
      "cell_type": "code",
      "execution_count": null,
      "source": [
        "################ Weiwen on 12-30-2020 ################\n",
        "# Generate the circuit of u-layer\n",
        "######################################################\n",
        "#define your input and output number\n",
        "u_layer = U_LYR_Circ(4,2) \n",
        "#init circuit\n",
        "circuit = QuantumCircuit()\n",
        "#add input qubit to your circuit if needed\n",
        "inps = u_layer.add_input_qubits(circuit)\n",
        "#add auxiliary qubit to your circuit if needed\n",
        "aux =u_layer.add_aux(circuit)\n",
        "#add output qubit to your circuit\n",
        "u_layer_out_qubits = u_layer.add_out_qubits(circuit)\n",
        "#add u-layer to your circuit\n",
        "u_layer.forward(circuit,binarize(weight_1) ,inps,u_layer_out_qubits,quantum_matrix,aux)\n",
        "\n",
        "#show your circuit\n",
        "circuit.draw('text',fold=300)\n",
        "\n"
      ],
      "outputs": [],
      "metadata": {
        "pycharm": {
          "name": "#%%\n",
          "is_executing": true
        },
        "id": "KMQV3vdZskid",
        "colab": {
          "base_uri": "https://localhost:8080/",
          "height": 402
        },
        "outputId": "6fdcd867-4b89-48b9-fc0c-216a733e7a11"
      }
    },
    {
      "cell_type": "code",
      "execution_count": null,
      "source": [
        "################ Weiwen on 12-30-2020 ################\n",
        "# Quantum circuit implementation of the output layer\n",
        "# fundamentals, please see our Nature Communication\n",
        "# paper (P-LYR) https://arxiv.org/pdf/2006.14815.pdf\n",
        "######################################################\n",
        "\n",
        "circuit.barrier()\n",
        "#add p-layer to your circuit\n",
        "p_layer = P_LYR_Circ(2,2)\n",
        "p_aux = p_layer.add_aux(circuit,\"p_aux\")\n",
        "p_layer_output = p_layer.add_out_qubits(circuit)\n",
        "p_layer.forward(circuit,binarize(weight_2),u_layer_out_qubits,p_layer_output,p_aux)\n",
        "\n",
        "\n",
        "#add n-layer to your circuit\n",
        "norm = N_LYR_Circ(2)\n",
        "norm_qubit = norm.add_norm_qubits(circuit)\n",
        "norm_output_qubit = norm.add_out_qubits(circuit)\n",
        "norm.forward(circuit,p_layer_output,norm_qubit,norm_output_qubit,norm_flag,norm_para)\n",
        "\n",
        "#add measurement to your circuit\n",
        "add_measure(circuit,norm_output_qubit,'reg')\n",
        "\n",
        "print(\"Output layer created!\")\n",
        "\n",
        "circuit.draw('text',fold =300)"
      ],
      "outputs": [],
      "metadata": {
        "pycharm": {
          "name": "#%%\n",
          "is_executing": true
        },
        "id": "OPxbaex8skie",
        "colab": {
          "base_uri": "https://localhost:8080/",
          "height": 667
        },
        "outputId": "eb212b36-0aa0-4dcb-a2ed-e13635367c5d"
      }
    },
    {
      "cell_type": "markdown",
      "source": [
        "### Quantum simulation"
      ],
      "metadata": {
        "collapsed": false,
        "id": "F90RJrFWskie"
      }
    },
    {
      "cell_type": "code",
      "execution_count": null,
      "source": [
        "################ Weiwen on 12-30-2020 ################\n",
        "# Quantum simulation\n",
        "######################################################\n",
        "\n",
        "qc_shots=8192\n",
        "opt_counts = fire_ibmq(circuit,qc_shots,True)\n",
        "(opt_mycount,bits) = analyze(opt_counts)\n",
        "opt_class_prob=[]\n",
        "for b in range(bits):\n",
        "    opt_class_prob.append(float(opt_mycount[b])/qc_shots)\n",
        "\n",
        "\n",
        "print(\"Simulation Result :\",opt_class_prob)\n",
        "print(\"Prediction class: {}\".format(opt_class_prob.index(max(opt_class_prob))))\n",
        "print(\"Target class: {}\".format(target[0]))\n",
        "if opt_class_prob.index(max(opt_class_prob))==target[0]:\n",
        "    print(\"Correct prediction\")\n",
        "else:\n",
        "    print(\"Incorrect prediction\")\n",
        "print(\"=\"*30)"
      ],
      "outputs": [],
      "metadata": {
        "pycharm": {
          "name": "#%%\n",
          "is_executing": true
        },
        "id": "zYtFE1fGskif",
        "colab": {
          "base_uri": "https://localhost:8080/"
        },
        "outputId": "03f633c5-6535-4ba4-d9c0-6bade0b87c83"
      }
    },
    {
      "cell_type": "markdown",
      "source": [
        "### classical inference"
      ],
      "metadata": {}
    },
    {
      "cell_type": "code",
      "execution_count": null,
      "source": [
        "\n",
        "neural_in_layers = 'u:2,p:2,n:2'\n",
        "layers = []\n",
        "for item1 in neural_in_layers.split(\",\"):\n",
        "    x= item1.split(\":\")\n",
        "    layer =[]\n",
        "    layer.append(x[0].strip())\n",
        "    layer.append(int(x[1].strip()))\n",
        "    layers.append(layer)\n",
        "given_ang =[]\n",
        "given_ang.append([])\n",
        "given_ang.append([])\n",
        "given_ang.append(norm_para)\n",
        "model = Net(img_size,layers,False,False,given_ang,False)\n",
        "model.load_state_dict(checkpoint[\"state_dict\"])\n",
        "# print(quantum_matrix)\n",
        "to_quantum_data = ToQuantumData(img_size)\n",
        "output_data = to_quantum_data(data)\n",
        "output = model.forward(output_data,False)\n",
        "print(\"classical inference:\",output)"
      ],
      "outputs": [],
      "metadata": {}
    }
  ]
}