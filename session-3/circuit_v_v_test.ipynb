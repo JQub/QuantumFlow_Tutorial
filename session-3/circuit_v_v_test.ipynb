{
 "cells": [
  {
   "cell_type": "markdown",
   "source": [
    "# How to build the variance quantum circuit"
   ],
   "metadata": {
    "collapsed": false,
    "pycharm": {
     "name": "#%% md\n"
    }
   }
  },
  {
   "cell_type": "markdown",
   "source": [
    "## Prepare environment and  define parameters "
   ],
   "metadata": {}
  },
  {
   "cell_type": "code",
   "execution_count": null,
   "source": [
    "is_colab = False\n",
    "import sys\n",
    "if is_colab:\n",
    "    !pip install -q torch==1.9.0\n",
    "    !pip install -q torchvision==0.10.0\n",
    "    !pip install -q qiskit==0.20.0\n",
    "    !pip install qfnn\n",
    "    !wget --no-check-certificate 'https://docs.google.com/uc?export=download&id=1w9VRv0iVfsH20Kb_MkF3yFhFeiYDVy5n' -O model.tar.gz\n",
    "    !tar zxvf /content/model.tar.gz\n",
    "\n",
    "\n",
    "import torch\n",
    "import torchvision\n",
    "\n",
    "import qiskit\n",
    "from qiskit import  QuantumCircuit, ClassicalRegister\n",
    "import numpy as np\n",
    "import functools\n",
    "\n",
    "################ Zhirui on 12-30-2020 ################\n",
    "# path\n",
    "######################################################\n",
    "if is_colab:\n",
    "    data_path = '/content/data' #mnist  path\n",
    "    resume_path = '/content/model/v16_v2/model_best.tar' #model path\n",
    "else:\n",
    "    data_path = '/home/hzr/Software/quantum/qc_mnist/pytorch/data' #mnist  path\n",
    "    resume_path = '/home/hzr/Software/quantum/QuantumFlow_Tutorial/model/v16_v2/model_best.tar' #model path\n"
   ],
   "outputs": [],
   "metadata": {
    "collapsed": false,
    "pycharm": {
     "name": "#%%\n",
     "is_executing": true
    }
   }
  },
  {
   "cell_type": "code",
   "execution_count": null,
   "source": [
    "from qfnn.qf_fb.q_output import fire_ibmq,analyze,add_measure\n",
    "from qfnn.qf_circ.v_lyr_circ import V_LYR_Circ\n",
    "from qfnn.qf_net.utils import binarize\n",
    "from qfnn.qf_fb.q_input import UMatrixCircuit\n",
    "from qfnn.qf_fb.c_input import load_data,to_quantum_matrix\n",
    "from qfnn.qf_fb.c_qf_mixer import Net\n",
    "from qfnn.qf_fb.c_input import ToQuantumData\n",
    "print = functools.partial(print, flush=True)\n",
    "\n",
    "\n",
    "\n",
    "################ Zhirui on 12-30-2020 ################\n",
    "# Parameters of settings\n",
    "######################################################\n",
    "interest_num = [3,6]\n",
    "ori_img_size = 28\n",
    "img_size = 4\n",
    "num_workers = 0 # number of subprocesses to use for data loading\n",
    "batch_size = 1# how many samples per batch to load\n",
    "inference_batch_size = 1\n",
    "isppd = False #is prepared data\n",
    "\n"
   ],
   "outputs": [],
   "metadata": {}
  },
  {
   "cell_type": "markdown",
   "source": [
    "## Load data"
   ],
   "metadata": {}
  },
  {
   "cell_type": "code",
   "execution_count": null,
   "source": [
    "train_loader, test_loader = load_data(interest_num,data_path,isppd,img_size,batch_size,inference_batch_size,False)\n",
    "\n",
    "\n",
    "for batch_idx, (data, target) in enumerate(test_loader):\n",
    "    torch.set_printoptions(threshold=sys.maxsize)\n",
    "    print(\"Batch Id: {}, Target: {}\".format(batch_idx,target))\n",
    "    quantum_matrix = to_quantum_matrix(data)\n",
    "    break"
   ],
   "outputs": [],
   "metadata": {}
  },
  {
   "cell_type": "markdown",
   "source": [
    "## Inference"
   ],
   "metadata": {}
  },
  {
   "cell_type": "code",
   "execution_count": null,
   "source": [
    "################ hzr on 12-30-2020 ################\n",
    "# Get the parameters of the trained model\n",
    "######################################################\n",
    "\n",
    "# Model initialization\n",
    "checkpoint = torch.load(resume_path, map_location='cpu')\n",
    "\n",
    "theta1 = checkpoint['state_dict']['fc0.theta']\n",
    "theta2 = checkpoint['state_dict']['fc1.theta']\n"
   ],
   "outputs": [],
   "metadata": {
    "collapsed": false,
    "pycharm": {
     "name": "#%%\n",
     "is_executing": true
    }
   }
  },
  {
   "cell_type": "markdown",
   "source": [
    "### data encoding"
   ],
   "metadata": {}
  },
  {
   "cell_type": "code",
   "execution_count": null,
   "source": [
    "################ hzr on 12-30-2020 ################\n",
    "# Generate the circuit of u-Matrix\n",
    "######################################################\n",
    "\n",
    "#init circuit\n",
    "circuit = QuantumCircuit()\n",
    "#define your input and repeat number\n",
    "u_mat = UMatrixCircuit(4,1)\n",
    "#add input qubit to your circuit if needed\n",
    "inputs = u_mat.add_input_qubits(circuit)\n",
    "#add u-matrix to your circuit\n",
    "u_mat.forward(circuit,inputs,quantum_matrix)"
   ],
   "outputs": [],
   "metadata": {}
  },
  {
   "cell_type": "markdown",
   "source": [
    "### build network"
   ],
   "metadata": {}
  },
  {
   "cell_type": "code",
   "execution_count": null,
   "source": [
    "################ hzr on 12-30-2020 ################\n",
    "# Generate the circuit of v-layer\n",
    "######################################################\n",
    "\n",
    "#define your input and repeat number\n",
    "vqc = V_LYR_Circ(4,1)\n",
    "#add the first v-layer  to your circuit\n",
    "vqc.forward(circuit,inputs,'v10',np.array(theta1,dtype=np.double))\n",
    "#add the second v-layer  to your circuit\n",
    "vqc.forward(circuit,inputs,'v10',np.array(theta2,dtype=np.double))\n",
    "\n",
    "circuit.barrier()\n",
    "#add measurement to your circuit if needed\n",
    "add_measure(circuit,[inputs[0][3],inputs[0][2]],'reg')\n",
    "\n",
    "circuit.draw('text',fold=300)"
   ],
   "outputs": [],
   "metadata": {}
  },
  {
   "cell_type": "markdown",
   "source": [
    "### Simulation"
   ],
   "metadata": {
    "collapsed": false
   }
  },
  {
   "cell_type": "code",
   "execution_count": null,
   "source": [
    "################ Weiwen on 12-30-2020 ################\n",
    "# Quantum simulation\n",
    "######################################################\n",
    "\n",
    "\n",
    "qc_shots=8192\n",
    "opt_counts = fire_ibmq(circuit,qc_shots,True)\n",
    "(opt_mycount,bits) = analyze(opt_counts)\n",
    "opt_class_prob=[]\n",
    "for b in range(bits):\n",
    "    opt_class_prob.append(float(opt_mycount[b])/qc_shots)\n",
    "\n",
    "\n",
    "print(\"Simulation Result :\",opt_class_prob)\n",
    "print(\"Prediction class: {}\".format(opt_class_prob.index(max(opt_class_prob))))\n",
    "print(\"Target class: {}\".format(target[0]))\n",
    "if opt_class_prob.index(max(opt_class_prob))==target[0]:\n",
    "    print(\"Correct prediction\")\n",
    "else:\n",
    "    print(\"Incorrect prediction\")\n",
    "print(\"=\"*30)"
   ],
   "outputs": [],
   "metadata": {
    "collapsed": false,
    "pycharm": {
     "name": "#%%\n",
     "is_executing": true
    }
   }
  },
  {
   "cell_type": "markdown",
   "source": [
    "### classical inference"
   ],
   "metadata": {}
  },
  {
   "cell_type": "code",
   "execution_count": null,
   "source": [
    "\n",
    "neural_in_layers = 'v:16,v:2'\n",
    "layers = []\n",
    "for item1 in neural_in_layers.split(\",\"):\n",
    "    x= item1.split(\":\")\n",
    "    layer =[]\n",
    "    layer.append(x[0].strip())\n",
    "    layer.append(int(x[1].strip()))\n",
    "    layers.append(layer)\n",
    "\n",
    "model = Net(img_size,layers,False,False)\n",
    "model.load_state_dict(checkpoint[\"state_dict\"])\n",
    "\n",
    "to_quantum_data = ToQuantumData(img_size)\n",
    "output_data = to_quantum_data(data)\n",
    "output = model.forward(output_data,False)\n",
    "print(\"classical inference:\",output)"
   ],
   "outputs": [],
   "metadata": {}
  }
 ],
 "metadata": {
  "kernelspec": {
   "name": "python3",
   "display_name": "Python 3.8.10 64-bit ('qf': conda)"
  },
  "language_info": {
   "name": "python",
   "version": "3.8.10",
   "mimetype": "text/x-python",
   "codemirror_mode": {
    "name": "ipython",
    "version": 3
   },
   "pygments_lexer": "ipython3",
   "nbconvert_exporter": "python",
   "file_extension": ".py"
  },
  "pycharm": {
   "stem_cell": {
    "cell_type": "raw",
    "source": [],
    "metadata": {
     "collapsed": false
    }
   }
  },
  "interpreter": {
   "hash": "f24048f0d5bdb0ff49c5e7c8a9899a65bc3ab13b0f32660a2227453ca6b95fd8"
  }
 },
 "nbformat": 4,
 "nbformat_minor": 2
}