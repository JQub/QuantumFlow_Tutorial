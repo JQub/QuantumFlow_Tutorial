{
  "cells": [
    {
      "cell_type": "code",
      "execution_count": null,
      "metadata": {
        "pycharm": {
          "is_executing": false
        },
        "id": "BL4fMqPQrXH-"
      },
      "outputs": [],
      "source": [
        "# !pip install -q torch==1.9.0\n",
        "# !pip install -q torchvision==0.10.0\n",
        "!pip install -q qiskit==0.20.0\n",
        "\n",
        "import warnings\n",
        "warnings.filterwarnings(\"ignore\", category=DeprecationWarning) \n",
        "\n",
        "import torch\n",
        "import torchvision\n",
        "from torchvision import datasets\n",
        "import torchvision.transforms as transforms\n",
        "import qiskit  \n",
        "import sys\n",
        "from pathlib import Path\n",
        "import numpy as np\n",
        "import matplotlib.pyplot as plt\n",
        "import numpy as np\n",
        "from PIL import Image\n",
        "from matplotlib import cm\n",
        "import functools\n",
        "\n",
        "import warnings\n",
        "warnings.filterwarnings(\"ignore\", category=DeprecationWarning)\n",
        "print = functools.partial(print, flush=True)\n",
        "\n",
        "interest_num = [3,6]\n",
        "ori_img_size = 28\n",
        "img_size = 4\n",
        "# number of subprocesses to use for data loading\n",
        "num_workers = 0\n",
        "# how many samples per batch to load\n",
        "batch_size = 1\n",
        "inference_batch_size = 1\n",
        "\n",
        "\n",
        "\n",
        "# Weiwen: modify the target classes starting from 0. Say, [3,6] -> [0,1]\n",
        "def modify_target(target):\n",
        "    for j in range(len(target)):\n",
        "        for idx in range(len(interest_num)):\n",
        "            if target[j] == interest_num[idx]:\n",
        "                target[j] = idx\n",
        "                break\n",
        "    new_target = torch.zeros(target.shape[0],2)\n",
        "    for i in range(target.shape[0]):        \n",
        "        if target[i].item() == 0:            \n",
        "            new_target[i] = torch.tensor([1,0]).clone()     \n",
        "        else:\n",
        "            new_target[i] = torch.tensor([0,1]).clone()\n",
        "               \n",
        "    return target,new_target\n",
        "\n",
        "# Weiwen: select sub-set from MNIST\n",
        "def select_num(dataset,interest_num):\n",
        "    labels = dataset.targets #get labels\n",
        "    labels = labels.numpy()\n",
        "    idx = {}\n",
        "    for num in interest_num:\n",
        "        idx[num] = np.where(labels == num)\n",
        "    fin_idx = idx[interest_num[0]]\n",
        "    for i in range(1,len(interest_num)):           \n",
        "        fin_idx = (np.concatenate((fin_idx[0],idx[interest_num[i]][0])),)\n",
        "    \n",
        "    fin_idx = fin_idx[0]    \n",
        "    dataset.targets = labels[fin_idx]\n",
        "    dataset.data = dataset.data[fin_idx]\n",
        "    dataset.targets,_ = modify_target(dataset.targets)\n",
        "    return dataset\n",
        "\n",
        "################ Weiwen on 12-30-2020 ################\n",
        "# Function: ToQuantumData from Listing 1\n",
        "# Note: Coverting classical data to quantum data\n",
        "######################################################\n",
        "class ToQuantumData(object):\n",
        "    def __call__(self, tensor):\n",
        "        device = torch.device(\"cuda\" if torch.cuda.is_available() else \"cpu\")\n",
        "        data = tensor.to(device)\n",
        "        input_vec = data.view(-1)\n",
        "        vec_len = input_vec.size()[0]\n",
        "        input_matrix = torch.zeros(vec_len, vec_len)\n",
        "        input_matrix[0] = input_vec\n",
        "        input_matrix = np.float64(input_matrix.transpose(0,1))\n",
        "        u, s, v = np.linalg.svd(input_matrix)\n",
        "        output_matrix = torch.tensor(np.dot(u, v))\n",
        "        output_data = output_matrix[:, 0].view(1, img_size,img_size)\n",
        "        return output_data\n",
        "\n",
        "################ Weiwen on 12-30-2020 ################\n",
        "# Function: ToQuantumData from Listing 1\n",
        "# Note: Coverting classical data to quantum matrix\n",
        "######################################################\n",
        "class ToQuantumMatrix(object):\n",
        "    def __call__(self, tensor):\n",
        "        device = torch.device(\"cuda\" if torch.cuda.is_available() else \"cpu\")\n",
        "        data = tensor.to(device)\n",
        "        input_vec = data.view(-1)\n",
        "        vec_len = input_vec.size()[0]\n",
        "        input_matrix = torch.zeros(vec_len, vec_len)\n",
        "        input_matrix[0] = input_vec\n",
        "        input_matrix = np.float64(input_matrix.transpose(0,1))\n",
        "        u, s, v = np.linalg.svd(input_matrix)\n",
        "        output_matrix = torch.tensor(np.dot(u, v))\n",
        "        return output_matrix                      "
      ]
    },
    {
      "cell_type": "code",
      "execution_count": null,
      "metadata": {
        "pycharm": {
          "is_executing": false
        },
        "id": "oj5JfepLrXID"
      },
      "outputs": [],
      "source": [
        "################ Weiwen on 12-30-2020 ################\n",
        "# Using torch to load MNIST data\n",
        "######################################################\n",
        "\n",
        "# convert data to torch.FloatTensor\n",
        "transform = transforms.Compose([transforms.Resize((ori_img_size,ori_img_size)),\n",
        "                                transforms.ToTensor()])\n",
        "# Path to MNIST Dataset\n",
        "train_data = datasets.MNIST(root='./data', train=True,\n",
        "                                   download=True, transform=transform)\n",
        "test_data = datasets.MNIST(root='./data', train=False,\n",
        "                                  download=True, transform=transform)\n",
        "\n",
        "train_data = select_num(train_data,interest_num)\n",
        "test_data =  select_num(test_data,interest_num)\n",
        "\n",
        "# prepare data loaders\n",
        "train_loader = torch.utils.data.DataLoader(train_data, batch_size=batch_size,\n",
        "    num_workers=num_workers, shuffle=True, drop_last=True)\n",
        "test_loader = torch.utils.data.DataLoader(test_data, batch_size=inference_batch_size, \n",
        "    num_workers=num_workers, shuffle=True, drop_last=True)\n"
      ]
    },
    {
      "cell_type": "code",
      "execution_count": null,
      "metadata": {
        "pycharm": {
          "is_executing": false
        },
        "id": "Eq9L6tffrXIE"
      },
      "outputs": [],
      "source": [
        "################ Weiwen on 12-30-2020 ################\n",
        "# T1: Downsample the image from 28*28 to 4*4\n",
        "# T2: Convert classical data to quantum data which \n",
        "#     can be encoded to the quantum states (amplitude)\n",
        "######################################################\n",
        "\n",
        "# Process data by hand, we can also integrate ToQuantumData into transform\n",
        "def data_pre_pro(img):\n",
        "    # Print original figure\n",
        "    img = img\n",
        "    npimg = img.numpy()\n",
        "    plt.imshow(np.transpose(npimg, (1, 2, 0)))    \n",
        "    plt.show()\n",
        "    # Print resized figure\n",
        "    image = np.asarray(npimg[0] * 255, np.uint8)    \n",
        "    im = Image.fromarray(image,mode=\"L\")\n",
        "    im = im.resize((4,4),Image.BILINEAR)    \n",
        "    plt.imshow(im,cmap='gray',)\n",
        "    plt.show()\n",
        "    # Converting classical data to quantum data\n",
        "    trans_to_tensor = transforms.ToTensor()\n",
        "    trans_to_vector = ToQuantumData()\n",
        "    trans_to_matrix = ToQuantumMatrix()    \n",
        "    print(\"Classical Data: {}\".format(trans_to_tensor(im).flatten()))\n",
        "    print(\"Quantum Data: {}\".format(trans_to_vector(trans_to_tensor(im)).flatten()))\n",
        "    return trans_to_matrix(trans_to_tensor(im)),trans_to_vector(trans_to_tensor(im))\n",
        "\n",
        "# Use the first image from test loader as example\n",
        "for batch_idx, (data, target) in enumerate(test_loader):\n",
        "    torch.set_printoptions(threshold=sys.maxsize)\n",
        "    print(\"Batch Id: {}, Target: {}\".format(batch_idx,target))\n",
        "    quantum_matrix,qantum_data = data_pre_pro(torchvision.utils.make_grid(data))\n",
        "    break"
      ]
    },
    {
      "cell_type": "code",
      "execution_count": null,
      "metadata": {
        "pycharm": {
          "is_executing": false
        },
        "id": "ELav6khrrXII"
      },
      "outputs": [],
      "source": [
        "################ Weiwen on 12-30-2020 ################\n",
        "# Do quantum state preparation and compare it with\n",
        "# the original data\n",
        "######################################################\n",
        "\n",
        "# Quantum-State Preparation in IBM Qiskit\n",
        "from qiskit import QuantumRegister, QuantumCircuit, ClassicalRegister\n",
        "from qiskit.extensions import XGate, UnitaryGate\n",
        "from qiskit import Aer, execute\n",
        "import qiskit\n",
        "# Input: a 4*4 matrix (data) holding 16 input data\n",
        "inp = QuantumRegister(4,\"in_qbit\")\n",
        "circ = QuantumCircuit(inp)\n",
        "data_matrix = quantum_matrix\n",
        "circ.append(UnitaryGate(data_matrix, label=\"Input\"), inp[0:4])\n",
        "print(circ)\n",
        "# Using StatevectorSimulator from the Aer provider\n",
        "simulator = Aer.get_backend('statevector_simulator')\n",
        "result = execute(circ, simulator).result()\n",
        "statevector = result.get_statevector(circ)\n",
        "\n",
        "print(\"Data to be encoded: \\n {}\\n\".format(qantum_data))\n",
        "print(\"Data read from the circuit: \\n {}\".format(statevector))"
      ]
    }
  ],
  "metadata": {
    "kernelspec": {
      "display_name": "PyCharm (qiskit_practice)",
      "language": "python",
      "name": "pycharm-8213722"
    },
    "language_info": {
      "codemirror_mode": {
        "name": "ipython",
        "version": 3
      },
      "file_extension": ".py",
      "mimetype": "text/x-python",
      "name": "python",
      "nbconvert_exporter": "python",
      "pygments_lexer": "ipython3",
      "version": "3.8.5"
    },
    "pycharm": {
      "stem_cell": {
        "cell_type": "raw",
        "metadata": {
          "collapsed": false
        },
        "source": []
      }
    },
    "colab": {
      "provenance": []
    }
  },
  "nbformat": 4,
  "nbformat_minor": 0
}