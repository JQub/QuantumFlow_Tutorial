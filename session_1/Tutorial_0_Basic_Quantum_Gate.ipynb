{
 "nbformat": 4,
 "nbformat_minor": 2,
 "metadata": {
  "colab": {
   "name": "Basic Quantum Gate",
   "provenance": [],
   "collapsed_sections": [],
   "toc_visible": true
  },
  "kernelspec": {
   "name": "python3",
   "display_name": "Python 3.8.10 64-bit ('qf': conda)"
  },
  "language_info": {
   "name": "python",
   "version": "3.8.10",
   "mimetype": "text/x-python",
   "codemirror_mode": {
    "name": "ipython",
    "version": 3
   },
   "pygments_lexer": "ipython3",
   "nbconvert_exporter": "python",
   "file_extension": ".py"
  },
  "interpreter": {
   "hash": "f24048f0d5bdb0ff49c5e7c8a9899a65bc3ab13b0f32660a2227453ca6b95fd8"
  }
 },
 "cells": [
  {
   "cell_type": "markdown",
   "source": [
    "# Single qubit gate"
   ],
   "metadata": {
    "id": "XhKK71TPv07l"
   }
  },
  {
   "cell_type": "code",
   "execution_count": null,
   "source": [
    "is_colab = True\n",
    "\n",
    "if is_colab:\n",
    "    !pip install -q torch==1.9.0\n",
    "    !pip install -q torchvision==0.10.0\n",
    "    !pip install -q qiskit==0.20.0\n",
    "\n",
    "import torch\n",
    "import torchvision\n",
    "import qiskit \n",
    "from qiskit import QuantumCircuit, assemble, Aer\n",
    "from qiskit import execute"
   ],
   "outputs": [],
   "metadata": {
    "colab": {
     "base_uri": "https://localhost:8080/"
    },
    "id": "jkCtB8IiGu49",
    "outputId": "14892b0b-77e8-4953-b7e1-409c7ec91c3b"
   }
  },
  {
   "cell_type": "code",
   "execution_count": null,
   "source": [
    "sim = Aer.get_backend('statevector_simulator')  # Tell Qiskit how to simulate our circuit"
   ],
   "outputs": [],
   "metadata": {
    "id": "vewjYJIIL4Lu"
   }
  },
  {
   "cell_type": "markdown",
   "source": [
    "### X Gate"
   ],
   "metadata": {
    "id": "rge0n87hJPnt"
   }
  },
  {
   "cell_type": "code",
   "execution_count": null,
   "source": [
    "qc = QuantumCircuit(1)\n",
    "initial_state = [1,0]   # Define initial_state as |0>\n",
    "# qc.initialize(initial_state, 0) # Apply initialisation operation to the 0th qubit\n",
    "qc.x(0)\n",
    "qc.draw()"
   ],
   "outputs": [],
   "metadata": {
    "colab": {
     "base_uri": "https://localhost:8080/",
     "height": 63
    },
    "id": "5TlRdJx4ATH9",
    "outputId": "f19b14f8-6892-41b0-d8f1-3ca1fdb04914"
   }
  },
  {
   "cell_type": "code",
   "execution_count": null,
   "source": [
    "result = execute(qc, sim).result()\n",
    "out_state = result.get_statevector(qc)\n",
    "print(\"after X gate, the state is \",out_state)\n",
    "\n",
    "initial_state_torch = torch.tensor([initial_state])\n",
    "x_gate_matrix = torch.tensor([[0,1],[1,0]])\n",
    "out_state_torch = torch.mm(x_gate_matrix,initial_state_torch.t()) \n",
    "print(\"after X matrix, the state is \",out_state_torch.t()) # Display the output state vector\n"
   ],
   "outputs": [],
   "metadata": {
    "colab": {
     "base_uri": "https://localhost:8080/",
     "height": 312
    },
    "id": "EOYG4XTBIyFk",
    "outputId": "88d9ac16-0b36-42e0-8fa6-65e8e1b6db38"
   }
  },
  {
   "cell_type": "markdown",
   "source": [
    "### Y Gate"
   ],
   "metadata": {
    "id": "k8z_4_y2LYOB"
   }
  },
  {
   "cell_type": "code",
   "execution_count": null,
   "source": [
    "qc = QuantumCircuit(1)\n",
    "initial_state = [1,0]   # Define initial_state as |0>\n",
    "qc.y(0)\n",
    "qc.draw()"
   ],
   "outputs": [],
   "metadata": {
    "id": "znSu1ETWLOpl"
   }
  },
  {
   "cell_type": "code",
   "execution_count": null,
   "source": [
    "result = execute(qc, sim).result()\n",
    "out_state = result.get_statevector(qc)\n",
    "print(\"after Y gate, the state is \",out_state) # Display the output state vector\n",
    "\n",
    "initial_state_torch = torch.tensor([initial_state],dtype=torch.cfloat)\n",
    "y_gate_matrix = torch.tensor([[0,-1j],[1j,0]])\n",
    "out_state_torch = torch.mm(y_gate_matrix,initial_state_torch.t()) \n",
    "print(\"after Y matrix, the state is \",out_state_torch.t()) # Display the output state vector"
   ],
   "outputs": [],
   "metadata": {
    "id": "7k8E7kGDLQzM"
   }
  },
  {
   "cell_type": "markdown",
   "source": [
    "### Z Gate"
   ],
   "metadata": {
    "id": "1h5MwXQTLa0V"
   }
  },
  {
   "cell_type": "code",
   "execution_count": null,
   "source": [
    "qc = QuantumCircuit(1)\n",
    "initial_state = [1,0]   # Define initial_state as |0>\n",
    "qc.z(0)\n",
    "qc.draw()"
   ],
   "outputs": [],
   "metadata": {
    "id": "q3vUiWKcLfdQ"
   }
  },
  {
   "cell_type": "code",
   "execution_count": null,
   "source": [
    "result = execute(qc, sim).result()\n",
    "out_state = result.get_statevector(qc)\n",
    "print(\"after Z gate, the state is \",out_state) # Display the output state vector\n",
    "\n",
    "initial_state_torch = torch.tensor([initial_state])\n",
    "z_gate_matrix = torch.tensor([[1,0],[0,-1]])\n",
    "out_state_torch = torch.mm(z_gate_matrix,initial_state_torch.t()) \n",
    "print(\"after Z matrix, the state is \",out_state_torch.t()) # Display the output state vector"
   ],
   "outputs": [],
   "metadata": {
    "id": "BQ0O3msTLgng"
   }
  },
  {
   "cell_type": "markdown",
   "source": [
    "### H Gate"
   ],
   "metadata": {
    "id": "1h5MwXQTLa0V"
   }
  },
  {
   "cell_type": "code",
   "execution_count": null,
   "source": [
    "qc = QuantumCircuit(1)\n",
    "initial_state = [1,0]   # Define initial_state as |0>\n",
    "qc.h(0)\n",
    "qc.draw()"
   ],
   "outputs": [],
   "metadata": {}
  },
  {
   "cell_type": "code",
   "execution_count": null,
   "source": [
    "import math\n",
    "result = execute(qc, sim).result()\n",
    "out_state = result.get_statevector(qc)\n",
    "print(\"after H gate, the state is \",out_state) # Display the output state vector\n",
    "\n",
    "initial_state_torch = torch.tensor([initial_state],dtype=torch.double)\n",
    "h_gate_matrix = torch.tensor([[math.sqrt(0.5),math.sqrt(0.5)],[math.sqrt(0.5),-math.sqrt(0.5)]],dtype=torch.double)\n",
    "out_state_torch = torch.mm(h_gate_matrix,initial_state_torch.t()) \n",
    "print(\"after H matrix, the state is \",out_state_torch.t()) # Display the output state vector"
   ],
   "outputs": [],
   "metadata": {}
  },
  {
   "cell_type": "markdown",
   "source": [
    "### U Gate"
   ],
   "metadata": {
    "id": "1h5MwXQTLa0V"
   }
  },
  {
   "cell_type": "code",
   "execution_count": null,
   "source": [
    "qc = QuantumCircuit(1)\n",
    "initial_state = [1,0]   # Define initial_state as |0>\n",
    "qc.u(math.pi/2, 0, math.pi, 0)\n",
    "qc.draw()"
   ],
   "outputs": [],
   "metadata": {}
  },
  {
   "cell_type": "code",
   "execution_count": null,
   "source": [
    "import cmath\n",
    "result = execute(qc, sim).result()\n",
    "out_state = result.get_statevector(qc)\n",
    "print(\"after U gate, the state is \",out_state) # Display the output state vector\n",
    "\n",
    "initial_state_torch = torch.tensor([initial_state],dtype=torch.cdouble)\n",
    "para = [cmath.pi/2, 0, cmath.pi, 0]\n",
    "u_gate_matrix = torch.tensor([[cmath.cos(para[0]/2),-cmath.exp(-1j*para[2])*cmath.sin(para[0]/2)],\n",
    "                                        [cmath.exp(1j*para[1])*cmath.sin(para[0]/2),cmath.exp(1j*(para[1]+para[2]))*cmath.cos(para[0]/2)]],dtype=torch.cdouble)\n",
    "out_state_torch = torch.mm(u_gate_matrix,initial_state_torch.t()) \n",
    "print(\"after U matrix, the state is \",out_state_torch.t()) # Display the output state vector"
   ],
   "outputs": [],
   "metadata": {}
  },
  {
   "cell_type": "markdown",
   "source": [
    "# Single Qubit Gates in parallel"
   ],
   "metadata": {}
  },
  {
   "cell_type": "markdown",
   "source": [
    "### H Gate + H Gate"
   ],
   "metadata": {}
  },
  {
   "cell_type": "code",
   "execution_count": null,
   "source": [
    "qc = QuantumCircuit(2)\n",
    "initial_state = [1,0]   # Define initial_state as |0>\n",
    "qc.h(0)\n",
    "qc.h(1)\n",
    "qc.draw()"
   ],
   "outputs": [],
   "metadata": {}
  },
  {
   "cell_type": "code",
   "execution_count": null,
   "source": [
    "import math\n",
    "result = execute(qc, sim).result()\n",
    "out_state = result.get_statevector(qc)\n",
    "print(\"after gate, the state is \",out_state) # Display the output state vector\n",
    "\n",
    "initial_state_single_qubit = torch.tensor([initial_state],dtype=torch.double)\n",
    "initial_state_torch = torch.kron(initial_state_single_qubit,initial_state_single_qubit)\n",
    "\n",
    "h_gate_matrix = torch.tensor([[math.sqrt(0.5),math.sqrt(0.5)],[math.sqrt(0.5),-math.sqrt(0.5)]],dtype=torch.double)\n",
    "\n",
    "double_h_gate_matrix = torch.kron(h_gate_matrix,h_gate_matrix)\n",
    "out_state_torch = torch.mm(double_h_gate_matrix,initial_state_torch.t()) \n",
    "print(\"after matrix, the state is \",out_state_torch.t()) # Display the output state vector"
   ],
   "outputs": [],
   "metadata": {}
  },
  {
   "cell_type": "markdown",
   "source": [
    "### H+Z Gate"
   ],
   "metadata": {}
  },
  {
   "cell_type": "code",
   "execution_count": null,
   "source": [
    "qc = QuantumCircuit(2)\n",
    "initial_state = [1,0]   # Define initial_state as |0>\n",
    "qc.h(0)\n",
    "qc.z(1)\n",
    "qc.draw()"
   ],
   "outputs": [],
   "metadata": {}
  },
  {
   "cell_type": "code",
   "execution_count": null,
   "source": [
    "import math\n",
    "result = execute(qc, sim).result()\n",
    "out_state = result.get_statevector(qc)\n",
    "print(\"after gate, the state is \",out_state) # Display the output state vector\n",
    "\n",
    "initial_state_single_qubit = torch.tensor([initial_state],dtype=torch.double)\n",
    "initial_state_torch = torch.kron(initial_state_single_qubit,initial_state_single_qubit)\n",
    "\n",
    "h_gate_matrix = torch.tensor([[math.sqrt(0.5),math.sqrt(0.5)],[math.sqrt(0.5),-math.sqrt(0.5)]],dtype=torch.double)\n",
    "z_gate_matrix = torch.tensor([[1,0],[0,-1]],dtype=torch.double)\n",
    "\n",
    "h_z_gate_matrix = torch.kron(z_gate_matrix,h_gate_matrix)\n",
    "out_state_torch = torch.mm(h_z_gate_matrix,initial_state_torch.t()) \n",
    "print(\"after matrix, the state is \",out_state_torch.t()) # Display the output state vector"
   ],
   "outputs": [],
   "metadata": {}
  },
  {
   "cell_type": "markdown",
   "source": [
    "# Entanglement"
   ],
   "metadata": {}
  },
  {
   "cell_type": "markdown",
   "source": [
    "### CX Gate"
   ],
   "metadata": {}
  },
  {
   "cell_type": "code",
   "execution_count": null,
   "source": [
    "qc = QuantumCircuit(2)\n",
    "initial_state = [1,0]   # Define initial_state as |0>\n",
    "qc.cx(0,1)\n",
    "qc.draw()"
   ],
   "outputs": [],
   "metadata": {}
  },
  {
   "cell_type": "code",
   "execution_count": null,
   "source": [
    "result = execute(qc, sim).result()\n",
    "out_state = result.get_statevector(qc)\n",
    "print(\"after gate, the state is \",out_state) # Display the output state vector\n",
    "\n",
    "initial_state_single_qubit = torch.tensor([initial_state],dtype=torch.double)\n",
    "initial_state_torch = torch.kron(initial_state_single_qubit,initial_state_single_qubit)\n",
    "\n",
    "cx_gate_matrix = torch.tensor([[1,0,0,0],[0,0,0,1],[0,0,1,0],[0,1,0,0]],dtype=torch.double)\n",
    "\n",
    "out_state_torch = torch.mm(cx_gate_matrix,initial_state_torch.t()) \n",
    "print(\"after matrix, the state is \",out_state_torch.t()) # Display the output state vector"
   ],
   "outputs": [],
   "metadata": {}
  },
  {
   "cell_type": "markdown",
   "source": [
    "### CZ Gate"
   ],
   "metadata": {}
  },
  {
   "cell_type": "code",
   "execution_count": null,
   "source": [
    "qc = QuantumCircuit(2)\n",
    "initial_state = [1,0]   # Define initial_state as |0>\n",
    "qc.cz(0,1)\n",
    "qc.draw()"
   ],
   "outputs": [],
   "metadata": {}
  },
  {
   "cell_type": "code",
   "execution_count": null,
   "source": [
    "result = execute(qc, sim).result()\n",
    "out_state = result.get_statevector(qc)\n",
    "print(\"after gate, the state is \",out_state) # Display the output state vector\n",
    "\n",
    "initial_state_single_qubit = torch.tensor([initial_state],dtype=torch.double)\n",
    "initial_state_torch = torch.kron(initial_state_single_qubit,initial_state_single_qubit)\n",
    "\n",
    "cz_gate_matrix = torch.tensor([[1,0,0,0],[0,1,0,0],[0,0,1,0],[0,0,0,-1]],dtype=torch.double)\n",
    "\n",
    "out_state_torch = torch.mm(cz_gate_matrix,initial_state_torch.t()) \n",
    "print(\"after matrix, the state is \",out_state_torch.t()) # Display the output state vector"
   ],
   "outputs": [],
   "metadata": {}
  },
  {
   "cell_type": "markdown",
   "source": [
    "### X Gate + CX Gate"
   ],
   "metadata": {}
  },
  {
   "cell_type": "code",
   "execution_count": null,
   "source": [
    "qc = QuantumCircuit(2)\n",
    "initial_state = [1,0]   # Define initial_state as |0>\n",
    "qc.x(0)\n",
    "qc.cx(0,1)\n",
    "qc.draw()"
   ],
   "outputs": [],
   "metadata": {}
  },
  {
   "cell_type": "code",
   "execution_count": null,
   "source": [
    "result = execute(qc, sim).result()\n",
    "out_state = result.get_statevector(qc)\n",
    "print(\"after gate, the state is \",out_state) # Display the output state vector\n",
    "\n",
    "initial_state_single_qubit = torch.tensor([initial_state],dtype=torch.double)\n",
    "initial_state_torch = torch.kron(initial_state_single_qubit,initial_state_single_qubit)\n",
    "x_gate_matrix = torch.tensor([[0,1],[1,0]])\n",
    "cx_gate_matrix = torch.tensor([[1,0,0,0],[0,1,0,0],[0,0,0,1],[0,0,1,0]],dtype=torch.double)\n",
    "\n",
    "x_gate_matrix = torch.kron(x_gate_matrix,torch.tensor([[1,0],[0,1]],dtype=torch.double))\n",
    "\n",
    "out_state_torch = torch.mm( x_gate_matrix,initial_state_torch.t()) \n",
    "out_state_torch = torch.mm( cx_gate_matrix,out_state_torch) \n",
    "\n",
    "print(\"after matrix, the state is \",out_state_torch.t()) # Display the output state vector"
   ],
   "outputs": [],
   "metadata": {}
  },
  {
   "cell_type": "markdown",
   "source": [
    "### H Gate + CX Gate"
   ],
   "metadata": {}
  },
  {
   "cell_type": "code",
   "execution_count": null,
   "source": [
    "qc = QuantumCircuit(2)\n",
    "initial_state = [1,0]   # Define initial_state as |0>\n",
    "qc.h(0)\n",
    "qc.cx(0,1)\n",
    "qc.draw()"
   ],
   "outputs": [],
   "metadata": {}
  },
  {
   "cell_type": "code",
   "execution_count": null,
   "source": [
    "import math\n",
    "result = execute(qc, sim).result()\n",
    "out_state = result.get_statevector(qc)\n",
    "print(\"after gate, the state is \",out_state) # Display the output state vector\n",
    "\n",
    "initial_state_single_qubit = torch.tensor([initial_state],dtype=torch.double)\n",
    "initial_state_torch = torch.kron(initial_state_single_qubit,initial_state_single_qubit)\n",
    "print(initial_state_torch)\n",
    "h_gate_matrix = torch.tensor([[math.sqrt(0.5),math.sqrt(0.5)],[math.sqrt(0.5),-math.sqrt(0.5)]],dtype=torch.double)\n",
    "cx_gate_matrix = torch.tensor([[1,0,0,0],[0,1,0,0],[0,0,0,1],[0,0,1,0]],dtype=torch.double)\n",
    "\n",
    "h_gate_matrix = torch.kron(h_gate_matrix,torch.tensor([[1,0],[0,1]],dtype=torch.double))\n",
    "\n",
    "out_state_torch = torch.mm(  h_gate_matrix,initial_state_torch.t()) \n",
    "out_state_torch = torch.mm( cx_gate_matrix,out_state_torch) \n",
    "\n",
    "print(\"after matrix, the state is \",out_state_torch.t()) # Display the output state vector\n"
   ],
   "outputs": [],
   "metadata": {}
  }
 ]
}