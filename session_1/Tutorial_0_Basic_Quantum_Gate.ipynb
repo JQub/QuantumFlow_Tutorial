{
 "nbformat": 4,
 "nbformat_minor": 2,
 "metadata": {
  "colab": {
   "name": "Basic Quantum Gate",
   "provenance": [],
   "collapsed_sections": [],
   "toc_visible": true
  },
  "kernelspec": {
   "name": "python3",
   "display_name": "Python 3.8.10 64-bit ('qf': conda)"
  },
  "language_info": {
   "name": "python",
   "version": "3.8.10",
   "mimetype": "text/x-python",
   "codemirror_mode": {
    "name": "ipython",
    "version": 3
   },
   "pygments_lexer": "ipython3",
   "nbconvert_exporter": "python",
   "file_extension": ".py"
  },
  "interpreter": {
   "hash": "f24048f0d5bdb0ff49c5e7c8a9899a65bc3ab13b0f32660a2227453ca6b95fd8"
  }
 },
 "cells": [
  {
   "cell_type": "markdown",
   "source": [
    "# Single qubit gate"
   ],
   "metadata": {
    "id": "XhKK71TPv07l"
   }
  },
  {
   "cell_type": "code",
   "execution_count": 7,
   "source": [
    "is_colab = True\n",
    "\n",
    "if is_colab:\n",
    "    !pip install -q torch==1.9.0\n",
    "    !pip install -q torchvision==0.10.0\n",
    "    !pip install -q qiskit==0.20.0\n",
    "    \n",
    "import torch\n",
    "import torchvision\n",
    "import qiskit \n",
    "from qiskit import QuantumCircuit, assemble, Aer\n",
    "from qiskit import execute"
   ],
   "outputs": [],
   "metadata": {
    "colab": {
     "base_uri": "https://localhost:8080/"
    },
    "id": "jkCtB8IiGu49",
    "outputId": "14892b0b-77e8-4953-b7e1-409c7ec91c3b"
   }
  },
  {
   "cell_type": "code",
   "execution_count": 8,
   "source": [
    "sim = Aer.get_backend('statevector_simulator')  # Tell Qiskit how to simulate our circuit"
   ],
   "outputs": [],
   "metadata": {
    "id": "vewjYJIIL4Lu"
   }
  },
  {
   "cell_type": "markdown",
   "source": [
    "### X Gate"
   ],
   "metadata": {
    "id": "rge0n87hJPnt"
   }
  },
  {
   "cell_type": "code",
   "execution_count": 9,
   "source": [
    "qc = QuantumCircuit(1)\n",
    "initial_state = [1,0]   # Define initial_state as |0>\n",
    "qc.initialize(initial_state, 0) # Apply initialisation operation to the 0th qubit\n",
    "qc.x(0)\n",
    "qc.draw()"
   ],
   "outputs": [
    {
     "data": {
      "text/plain": "     ┌─────────────────┐┌───┐\nq_0: ┤ initialize(1,0) ├┤ X ├\n     └─────────────────┘└───┘",
      "text/html": "<pre style=\"word-wrap: normal;white-space: pre;background: #fff0;line-height: 1.1;font-family: &quot;Courier New&quot;,Courier,monospace\">     ┌─────────────────┐┌───┐\nq_0: ┤ initialize(1,0) ├┤ X ├\n     └─────────────────┘└───┘</pre>"
     },
     "execution_count": 9,
     "metadata": {},
     "output_type": "execute_result"
    }
   ],
   "metadata": {
    "colab": {
     "base_uri": "https://localhost:8080/",
     "height": 63
    },
    "id": "5TlRdJx4ATH9",
    "outputId": "f19b14f8-6892-41b0-d8f1-3ca1fdb04914"
   }
  },
  {
   "cell_type": "code",
   "execution_count": 10,
   "source": [
    "result = execute(qc, sim).result()\n",
    "out_state = result.get_statevector(qc)\n",
    "print(\"after X gate, the state is \",out_state)\n",
    "\n",
    "initial_state_torch = torch.tensor([initial_state])\n",
    "x_gate_matrix = torch.tensor([[0,1],[1,0]])\n",
    "out_state_torch = torch.mm(x_gate_matrix,initial_state_torch.t()) \n",
    "print(\"after X matrix, the state is \",out_state_torch.t()) # Display the output state vector\n"
   ],
   "outputs": [
    {
     "name": "stdout",
     "output_type": "stream",
     "text": [
      "after X gate, the state is  [0.+0.j 1.+0.j]\n",
      "after X matrix, the state is  tensor([[0, 1]])\n"
     ]
    }
   ],
   "metadata": {
    "colab": {
     "base_uri": "https://localhost:8080/",
     "height": 312
    },
    "id": "EOYG4XTBIyFk",
    "outputId": "88d9ac16-0b36-42e0-8fa6-65e8e1b6db38"
   }
  },
  {
   "cell_type": "markdown",
   "source": [
    "### Y Gate"
   ],
   "metadata": {
    "id": "k8z_4_y2LYOB"
   }
  },
  {
   "cell_type": "code",
   "execution_count": 11,
   "source": [
    "qc = QuantumCircuit(1)\n",
    "initial_state = [1,0]   # Define initial_state as |0>\n",
    "qc.initialize(initial_state, 0) # Apply initialisation operation to the 0th qubit\n",
    "qc.y(0)\n",
    "qc.draw()"
   ],
   "outputs": [
    {
     "data": {
      "text/plain": "     ┌─────────────────┐┌───┐\nq_0: ┤ initialize(1,0) ├┤ Y ├\n     └─────────────────┘└───┘",
      "text/html": "<pre style=\"word-wrap: normal;white-space: pre;background: #fff0;line-height: 1.1;font-family: &quot;Courier New&quot;,Courier,monospace\">     ┌─────────────────┐┌───┐\nq_0: ┤ initialize(1,0) ├┤ Y ├\n     └─────────────────┘└───┘</pre>"
     },
     "execution_count": 11,
     "metadata": {},
     "output_type": "execute_result"
    }
   ],
   "metadata": {
    "id": "znSu1ETWLOpl"
   }
  },
  {
   "cell_type": "code",
   "execution_count": 12,
   "source": [
    "result = execute(qc, sim).result()\n",
    "out_state = result.get_statevector(qc)\n",
    "print(\"after Y gate, the state is \",out_state) # Display the output state vector\n",
    "\n",
    "initial_state_torch = torch.tensor([initial_state],dtype=torch.cfloat)\n",
    "y_gate_matrix = torch.tensor([[0,-1j],[1j,0]])\n",
    "out_state_torch = torch.mm(y_gate_matrix,initial_state_torch.t()) \n",
    "print(\"after Y matrix, the state is \",out_state_torch.t()) # Display the output state vector"
   ],
   "outputs": [
    {
     "name": "stdout",
     "output_type": "stream",
     "text": [
      "after Y gate, the state is  [0.-0.j 0.+1.j]\n",
      "after Y matrix, the state is  tensor([[0.+0.j, 0.+1.j]])\n"
     ]
    }
   ],
   "metadata": {
    "id": "7k8E7kGDLQzM"
   }
  },
  {
   "cell_type": "markdown",
   "source": [
    "### Z Gate"
   ],
   "metadata": {
    "id": "1h5MwXQTLa0V"
   }
  },
  {
   "cell_type": "code",
   "execution_count": 13,
   "source": [
    "qc = QuantumCircuit(1)\n",
    "initial_state = [1,0]   # Define initial_state as |0>\n",
    "qc.initialize(initial_state, 0) # Apply initialisation operation to the 0th qubit\n",
    "qc.z(0)\n",
    "qc.draw()"
   ],
   "outputs": [
    {
     "data": {
      "text/plain": "     ┌─────────────────┐┌───┐\nq_0: ┤ initialize(1,0) ├┤ Z ├\n     └─────────────────┘└───┘",
      "text/html": "<pre style=\"word-wrap: normal;white-space: pre;background: #fff0;line-height: 1.1;font-family: &quot;Courier New&quot;,Courier,monospace\">     ┌─────────────────┐┌───┐\nq_0: ┤ initialize(1,0) ├┤ Z ├\n     └─────────────────┘└───┘</pre>"
     },
     "execution_count": 13,
     "metadata": {},
     "output_type": "execute_result"
    }
   ],
   "metadata": {
    "id": "q3vUiWKcLfdQ"
   }
  },
  {
   "cell_type": "code",
   "execution_count": 14,
   "source": [
    "result = execute(qc, sim).result()\n",
    "out_state = result.get_statevector(qc)\n",
    "print(\"after Z gate, the state is \",out_state) # Display the output state vector\n",
    "\n",
    "initial_state_torch = torch.tensor([initial_state])\n",
    "z_gate_matrix = torch.tensor([[1,0],[0,-1]])\n",
    "out_state_torch = torch.mm(z_gate_matrix,initial_state_torch.t()) \n",
    "print(\"after Z matrix, the state is \",out_state_torch.t()) # Display the output state vector"
   ],
   "outputs": [
    {
     "name": "stdout",
     "output_type": "stream",
     "text": [
      "after Z gate, the state is  [ 1.+0.j -0.+0.j]\n",
      "after Z matrix, the state is  tensor([[1, 0]])\n"
     ]
    }
   ],
   "metadata": {
    "id": "BQ0O3msTLgng"
   }
  },
  {
   "cell_type": "markdown",
   "source": [
    "### H Gate"
   ],
   "metadata": {
    "id": "1h5MwXQTLa0V"
   }
  },
  {
   "cell_type": "code",
   "execution_count": 15,
   "source": [
    "qc = QuantumCircuit(1)\n",
    "initial_state = [1,0]   # Define initial_state as |0>\n",
    "qc.initialize(initial_state, 0) # Apply initialisation operation to the 0th qubit\n",
    "qc.h(0)\n",
    "qc.draw()"
   ],
   "outputs": [
    {
     "data": {
      "text/plain": "     ┌─────────────────┐┌───┐\nq_0: ┤ initialize(1,0) ├┤ H ├\n     └─────────────────┘└───┘",
      "text/html": "<pre style=\"word-wrap: normal;white-space: pre;background: #fff0;line-height: 1.1;font-family: &quot;Courier New&quot;,Courier,monospace\">     ┌─────────────────┐┌───┐\nq_0: ┤ initialize(1,0) ├┤ H ├\n     └─────────────────┘└───┘</pre>"
     },
     "execution_count": 15,
     "metadata": {},
     "output_type": "execute_result"
    }
   ],
   "metadata": {}
  },
  {
   "cell_type": "code",
   "execution_count": 16,
   "source": [
    "import math\n",
    "result = execute(qc, sim).result()\n",
    "out_state = result.get_statevector(qc)\n",
    "print(\"after H gate, the state is \",out_state) # Display the output state vector\n",
    "\n",
    "initial_state_torch = torch.tensor([initial_state],dtype=torch.double)\n",
    "h_gate_matrix = torch.tensor([[math.sqrt(0.5),math.sqrt(0.5)],[math.sqrt(0.5),-math.sqrt(0.5)]],dtype=torch.double)\n",
    "out_state_torch = torch.mm(h_gate_matrix,initial_state_torch.t()) \n",
    "print(\"after H matrix, the state is \",out_state_torch.t()) # Display the output state vector"
   ],
   "outputs": [
    {
     "name": "stdout",
     "output_type": "stream",
     "text": [
      "after H gate, the state is  [0.70710678+0.j 0.70710678+0.j]\n",
      "after H matrix, the state is  tensor([[0.7071, 0.7071]], dtype=torch.float64)\n"
     ]
    }
   ],
   "metadata": {}
  },
  {
   "cell_type": "markdown",
   "source": [
    "### U Gate"
   ],
   "metadata": {
    "id": "1h5MwXQTLa0V"
   }
  },
  {
   "cell_type": "code",
   "execution_count": 17,
   "source": [
    "qc = QuantumCircuit(1)\n",
    "initial_state = [1,0]   # Define initial_state as |0>\n",
    "qc.initialize(initial_state, 0) # Apply initialisation operation to the 0th qubit\n",
    "qc.u(math.pi/2, 0, math.pi, 0)\n",
    "qc.draw()"
   ],
   "outputs": [
    {
     "data": {
      "text/plain": "     ┌─────────────────┐┌──────────────┐\nq_0: ┤ initialize(1,0) ├┤ U(pi/2,0,pi) ├\n     └─────────────────┘└──────────────┘",
      "text/html": "<pre style=\"word-wrap: normal;white-space: pre;background: #fff0;line-height: 1.1;font-family: &quot;Courier New&quot;,Courier,monospace\">     ┌─────────────────┐┌──────────────┐\nq_0: ┤ initialize(1,0) ├┤ U(pi/2,0,pi) ├\n     └─────────────────┘└──────────────┘</pre>"
     },
     "execution_count": 17,
     "metadata": {},
     "output_type": "execute_result"
    }
   ],
   "metadata": {}
  },
  {
   "cell_type": "code",
   "execution_count": 18,
   "source": [
    "import cmath\n",
    "result = execute(qc, sim).result()\n",
    "out_state = result.get_statevector(qc)\n",
    "print(\"after U gate, the state is \",out_state) # Display the output state vector\n",
    "\n",
    "initial_state_torch = torch.tensor([initial_state],dtype=torch.cdouble)\n",
    "para = [cmath.pi/2, 0, cmath.pi, 0]\n",
    "u_gate_matrix = torch.tensor([[cmath.cos(para[0]/2),-cmath.exp(-1j*para[2])*cmath.sin(para[0]/2)],\n",
    "                                        [cmath.exp(1j*para[1])*cmath.sin(para[0]/2),cmath.exp(1j*(para[1]+para[2]))*cmath.cos(para[0]/2)]],dtype=torch.cdouble)\n",
    "out_state_torch = torch.mm(u_gate_matrix,initial_state_torch.t()) \n",
    "print(\"after U matrix, the state is \",out_state_torch.t()) # Display the output state vector"
   ],
   "outputs": [
    {
     "name": "stdout",
     "output_type": "stream",
     "text": [
      "after U gate, the state is  [0.70710678+0.j 0.70710678+0.j]\n",
      "after U matrix, the state is  tensor([[0.7071+0.j, 0.7071+0.j]], dtype=torch.complex128)\n"
     ]
    }
   ],
   "metadata": {}
  },
  {
   "cell_type": "markdown",
   "source": [
    "# Single Qubit Gates in parallel"
   ],
   "metadata": {}
  },
  {
   "cell_type": "markdown",
   "source": [
    "### H Gate + H Gate"
   ],
   "metadata": {}
  },
  {
   "cell_type": "code",
   "execution_count": 19,
   "source": [
    "qc = QuantumCircuit(2)\n",
    "initial_state = [1,0]   # Define initial_state as |0>\n",
    "qc.initialize(initial_state, 0) # Apply initialisation operation to the 0th qubit\n",
    "qc.initialize(initial_state, 1) # Apply initialisation operation to the 0th qubit\n",
    "qc.h(0)\n",
    "qc.h(1)\n",
    "qc.draw()"
   ],
   "outputs": [
    {
     "data": {
      "text/plain": "     ┌─────────────────┐┌───┐\nq_0: ┤ initialize(1,0) ├┤ H ├\n     ├─────────────────┤├───┤\nq_1: ┤ initialize(1,0) ├┤ H ├\n     └─────────────────┘└───┘",
      "text/html": "<pre style=\"word-wrap: normal;white-space: pre;background: #fff0;line-height: 1.1;font-family: &quot;Courier New&quot;,Courier,monospace\">     ┌─────────────────┐┌───┐\nq_0: ┤ initialize(1,0) ├┤ H ├\n     ├─────────────────┤├───┤\nq_1: ┤ initialize(1,0) ├┤ H ├\n     └─────────────────┘└───┘</pre>"
     },
     "execution_count": 19,
     "metadata": {},
     "output_type": "execute_result"
    }
   ],
   "metadata": {}
  },
  {
   "cell_type": "code",
   "execution_count": 20,
   "source": [
    "import math\n",
    "result = execute(qc, sim).result()\n",
    "out_state = result.get_statevector(qc)\n",
    "print(\"after gate, the state is \",out_state) # Display the output state vector\n",
    "\n",
    "initial_state_single_qubit = torch.tensor([initial_state],dtype=torch.double)\n",
    "initial_state_torch = torch.kron(initial_state_single_qubit,initial_state_single_qubit)\n",
    "\n",
    "h_gate_matrix = torch.tensor([[math.sqrt(0.5),math.sqrt(0.5)],[math.sqrt(0.5),-math.sqrt(0.5)]],dtype=torch.double)\n",
    "\n",
    "double_h_gate_matrix = torch.kron(h_gate_matrix,h_gate_matrix)\n",
    "out_state_torch = torch.mm(double_h_gate_matrix,initial_state_torch.t()) \n",
    "print(\"after matrix, the state is \",out_state_torch.t()) # Display the output state vector"
   ],
   "outputs": [
    {
     "name": "stdout",
     "output_type": "stream",
     "text": [
      "after gate, the state is  [0.5+0.j 0.5+0.j 0.5+0.j 0.5+0.j]\n",
      "after matrix, the state is  tensor([[0.5000, 0.5000, 0.5000, 0.5000]], dtype=torch.float64)\n"
     ]
    }
   ],
   "metadata": {}
  },
  {
   "cell_type": "markdown",
   "source": [
    "### H+Z Gate"
   ],
   "metadata": {}
  },
  {
   "cell_type": "code",
   "execution_count": 21,
   "source": [
    "qc = QuantumCircuit(2)\n",
    "initial_state = [1,0]   # Define initial_state as |0>\n",
    "qc.initialize(initial_state, 0) # Apply initialisation operation to the 0th qubit\n",
    "qc.initialize(initial_state, 1) # Apply initialisation operation to the 0th qubit\n",
    "qc.h(0)\n",
    "qc.z(1)\n",
    "qc.draw()"
   ],
   "outputs": [
    {
     "data": {
      "text/plain": "     ┌─────────────────┐┌───┐\nq_0: ┤ initialize(1,0) ├┤ H ├\n     ├─────────────────┤├───┤\nq_1: ┤ initialize(1,0) ├┤ Z ├\n     └─────────────────┘└───┘",
      "text/html": "<pre style=\"word-wrap: normal;white-space: pre;background: #fff0;line-height: 1.1;font-family: &quot;Courier New&quot;,Courier,monospace\">     ┌─────────────────┐┌───┐\nq_0: ┤ initialize(1,0) ├┤ H ├\n     ├─────────────────┤├───┤\nq_1: ┤ initialize(1,0) ├┤ Z ├\n     └─────────────────┘└───┘</pre>"
     },
     "execution_count": 21,
     "metadata": {},
     "output_type": "execute_result"
    }
   ],
   "metadata": {}
  },
  {
   "cell_type": "code",
   "execution_count": 22,
   "source": [
    "import math\n",
    "result = execute(qc, sim).result()\n",
    "out_state = result.get_statevector(qc)\n",
    "print(\"after gate, the state is \",out_state) # Display the output state vector\n",
    "\n",
    "initial_state_single_qubit = torch.tensor([initial_state],dtype=torch.double)\n",
    "initial_state_torch = torch.kron(initial_state_single_qubit,initial_state_single_qubit)\n",
    "\n",
    "h_gate_matrix = torch.tensor([[math.sqrt(0.5),math.sqrt(0.5)],[math.sqrt(0.5),-math.sqrt(0.5)]],dtype=torch.double)\n",
    "z_gate_matrix = torch.tensor([[1,0],[0,-1]],dtype=torch.double)\n",
    "\n",
    "h_z_gate_matrix = torch.kron(z_gate_matrix,h_gate_matrix)\n",
    "out_state_torch = torch.mm(h_z_gate_matrix,initial_state_torch.t()) \n",
    "print(\"after matrix, the state is \",out_state_torch.t()) # Display the output state vector"
   ],
   "outputs": [
    {
     "name": "stdout",
     "output_type": "stream",
     "text": [
      "after gate, the state is  [ 0.70710678+0.j  0.70710678+0.j -0.        +0.j -0.        +0.j]\n",
      "after matrix, the state is  tensor([[0.7071, 0.7071, 0.0000, 0.0000]], dtype=torch.float64)\n"
     ]
    }
   ],
   "metadata": {}
  },
  {
   "cell_type": "markdown",
   "source": [
    "# Entanglement"
   ],
   "metadata": {}
  },
  {
   "cell_type": "markdown",
   "source": [
    "### CX Gate"
   ],
   "metadata": {}
  },
  {
   "cell_type": "code",
   "execution_count": 23,
   "source": [
    "qc = QuantumCircuit(2)\n",
    "initial_state = [1,0]   # Define initial_state as |0>\n",
    "qc.initialize(initial_state, 0) # Apply initialisation operation to the 0th qubit\n",
    "qc.initialize(initial_state, 1) # Apply initialisation operation to the 0th qubit\n",
    "qc.cx(0,1)\n",
    "qc.draw()"
   ],
   "outputs": [
    {
     "data": {
      "text/plain": "     ┌─────────────────┐     \nq_0: ┤ initialize(1,0) ├──■──\n     ├─────────────────┤┌─┴─┐\nq_1: ┤ initialize(1,0) ├┤ X ├\n     └─────────────────┘└───┘",
      "text/html": "<pre style=\"word-wrap: normal;white-space: pre;background: #fff0;line-height: 1.1;font-family: &quot;Courier New&quot;,Courier,monospace\">     ┌─────────────────┐     \nq_0: ┤ initialize(1,0) ├──■──\n     ├─────────────────┤┌─┴─┐\nq_1: ┤ initialize(1,0) ├┤ X ├\n     └─────────────────┘└───┘</pre>"
     },
     "execution_count": 23,
     "metadata": {},
     "output_type": "execute_result"
    }
   ],
   "metadata": {}
  },
  {
   "cell_type": "code",
   "execution_count": 24,
   "source": [
    "result = execute(qc, sim).result()\n",
    "out_state = result.get_statevector(qc)\n",
    "print(\"after gate, the state is \",out_state) # Display the output state vector\n",
    "\n",
    "initial_state_single_qubit = torch.tensor([initial_state],dtype=torch.double)\n",
    "initial_state_torch = torch.kron(initial_state_single_qubit,initial_state_single_qubit)\n",
    "\n",
    "cx_gate_matrix = torch.tensor([[1,0,0,0],[0,0,0,1],[0,0,1,0],[0,1,0,0]],dtype=torch.double)\n",
    "\n",
    "out_state_torch = torch.mm(cx_gate_matrix,initial_state_torch.t()) \n",
    "print(\"after matrix, the state is \",out_state_torch.t()) # Display the output state vector"
   ],
   "outputs": [
    {
     "name": "stdout",
     "output_type": "stream",
     "text": [
      "after gate, the state is  [1.+0.j 0.+0.j 0.+0.j 0.+0.j]\n",
      "after matrix, the state is  tensor([[1., 0., 0., 0.]], dtype=torch.float64)\n"
     ]
    }
   ],
   "metadata": {}
  },
  {
   "cell_type": "markdown",
   "source": [
    "### CZ Gate"
   ],
   "metadata": {}
  },
  {
   "cell_type": "code",
   "execution_count": 25,
   "source": [
    "qc = QuantumCircuit(2)\n",
    "initial_state = [1,0]   # Define initial_state as |0>\n",
    "qc.initialize(initial_state, 0) # Apply initialisation operation to the 0th qubit\n",
    "qc.initialize(initial_state, 1) # Apply initialisation operation to the 0th qubit\n",
    "qc.cz(0,1)\n",
    "qc.draw()"
   ],
   "outputs": [
    {
     "data": {
      "text/plain": "     ┌─────────────────┐   \nq_0: ┤ initialize(1,0) ├─■─\n     ├─────────────────┤ │ \nq_1: ┤ initialize(1,0) ├─■─\n     └─────────────────┘   ",
      "text/html": "<pre style=\"word-wrap: normal;white-space: pre;background: #fff0;line-height: 1.1;font-family: &quot;Courier New&quot;,Courier,monospace\">     ┌─────────────────┐   \nq_0: ┤ initialize(1,0) ├─■─\n     ├─────────────────┤ │ \nq_1: ┤ initialize(1,0) ├─■─\n     └─────────────────┘   </pre>"
     },
     "execution_count": 25,
     "metadata": {},
     "output_type": "execute_result"
    }
   ],
   "metadata": {}
  },
  {
   "cell_type": "code",
   "execution_count": 26,
   "source": [
    "result = execute(qc, sim).result()\n",
    "out_state = result.get_statevector(qc)\n",
    "print(\"after gate, the state is \",out_state) # Display the output state vector\n",
    "\n",
    "initial_state_single_qubit = torch.tensor([initial_state],dtype=torch.double)\n",
    "initial_state_torch = torch.kron(initial_state_single_qubit,initial_state_single_qubit)\n",
    "\n",
    "cz_gate_matrix = torch.tensor([[1,0,0,0],[0,1,0,0],[0,0,1,0],[0,0,0,-1]],dtype=torch.double)\n",
    "\n",
    "out_state_torch = torch.mm(cz_gate_matrix,initial_state_torch.t()) \n",
    "print(\"after matrix, the state is \",out_state_torch.t()) # Display the output state vector"
   ],
   "outputs": [
    {
     "name": "stdout",
     "output_type": "stream",
     "text": [
      "after gate, the state is  [ 1.+0.j  0.+0.j  0.+0.j -0.+0.j]\n",
      "after matrix, the state is  tensor([[1., 0., 0., 0.]], dtype=torch.float64)\n"
     ]
    }
   ],
   "metadata": {}
  },
  {
   "cell_type": "markdown",
   "source": [
    "### X Gate + CX Gate"
   ],
   "metadata": {}
  },
  {
   "cell_type": "code",
   "execution_count": 27,
   "source": [
    "qc = QuantumCircuit(2)\n",
    "initial_state = [1,0]   # Define initial_state as |0>\n",
    "qc.initialize(initial_state, 0) # Apply initialisation operation to the 0th qubit\n",
    "qc.initialize(initial_state, 1) # Apply initialisation operation to the 0th qubit\n",
    "qc.x(0)\n",
    "qc.cx(0,1)\n",
    "qc.draw()"
   ],
   "outputs": [
    {
     "data": {
      "text/plain": "     ┌─────────────────┐┌───┐     \nq_0: ┤ initialize(1,0) ├┤ X ├──■──\n     ├─────────────────┤└───┘┌─┴─┐\nq_1: ┤ initialize(1,0) ├─────┤ X ├\n     └─────────────────┘     └───┘",
      "text/html": "<pre style=\"word-wrap: normal;white-space: pre;background: #fff0;line-height: 1.1;font-family: &quot;Courier New&quot;,Courier,monospace\">     ┌─────────────────┐┌───┐     \nq_0: ┤ initialize(1,0) ├┤ X ├──■──\n     ├─────────────────┤└───┘┌─┴─┐\nq_1: ┤ initialize(1,0) ├─────┤ X ├\n     └─────────────────┘     └───┘</pre>"
     },
     "execution_count": 27,
     "metadata": {},
     "output_type": "execute_result"
    }
   ],
   "metadata": {}
  },
  {
   "cell_type": "code",
   "execution_count": 28,
   "source": [
    "result = execute(qc, sim).result()\n",
    "out_state = result.get_statevector(qc)\n",
    "print(\"after gate, the state is \",out_state) # Display the output state vector\n",
    "\n",
    "initial_state_single_qubit = torch.tensor([initial_state],dtype=torch.double)\n",
    "initial_state_torch = torch.kron(initial_state_single_qubit,initial_state_single_qubit)\n",
    "x_gate_matrix = torch.tensor([[0,1],[1,0]])\n",
    "cx_gate_matrix = torch.tensor([[1,0,0,0],[0,1,0,0],[0,0,0,1],[0,0,1,0]],dtype=torch.double)\n",
    "\n",
    "x_gate_matrix = torch.kron(x_gate_matrix,torch.tensor([[1,0],[0,1]],dtype=torch.double))\n",
    "\n",
    "out_state_torch = torch.mm( x_gate_matrix,initial_state_torch.t()) \n",
    "out_state_torch = torch.mm( cx_gate_matrix,out_state_torch) \n",
    "\n",
    "print(\"after matrix, the state is \",out_state_torch.t()) # Display the output state vector"
   ],
   "outputs": [
    {
     "name": "stdout",
     "output_type": "stream",
     "text": [
      "after gate, the state is  [0.+0.j 0.+0.j 0.+0.j 1.+0.j]\n",
      "after matrix, the state is  tensor([[0., 0., 0., 1.]], dtype=torch.float64)\n"
     ]
    }
   ],
   "metadata": {}
  },
  {
   "cell_type": "markdown",
   "source": [
    "### H Gate + CX Gate"
   ],
   "metadata": {}
  },
  {
   "cell_type": "code",
   "execution_count": 29,
   "source": [
    "qc = QuantumCircuit(2)\n",
    "initial_state = [1,0]   # Define initial_state as |0>\n",
    "qc.initialize(initial_state, 0) # Apply initialisation operation to the 0th qubit\n",
    "qc.initialize(initial_state, 1) # Apply initialisation operation to the 0th qubit\n",
    "qc.h(0)\n",
    "qc.cx(0,1)\n",
    "qc.draw()"
   ],
   "outputs": [
    {
     "data": {
      "text/plain": "     ┌─────────────────┐┌───┐     \nq_0: ┤ initialize(1,0) ├┤ H ├──■──\n     ├─────────────────┤└───┘┌─┴─┐\nq_1: ┤ initialize(1,0) ├─────┤ X ├\n     └─────────────────┘     └───┘",
      "text/html": "<pre style=\"word-wrap: normal;white-space: pre;background: #fff0;line-height: 1.1;font-family: &quot;Courier New&quot;,Courier,monospace\">     ┌─────────────────┐┌───┐     \nq_0: ┤ initialize(1,0) ├┤ H ├──■──\n     ├─────────────────┤└───┘┌─┴─┐\nq_1: ┤ initialize(1,0) ├─────┤ X ├\n     └─────────────────┘     └───┘</pre>"
     },
     "execution_count": 29,
     "metadata": {},
     "output_type": "execute_result"
    }
   ],
   "metadata": {}
  },
  {
   "cell_type": "code",
   "execution_count": 30,
   "source": [
    "import math\n",
    "result = execute(qc, sim).result()\n",
    "out_state = result.get_statevector(qc)\n",
    "print(\"after gate, the state is \",out_state) # Display the output state vector\n",
    "\n",
    "initial_state_single_qubit = torch.tensor([initial_state],dtype=torch.double)\n",
    "initial_state_torch = torch.kron(initial_state_single_qubit,initial_state_single_qubit)\n",
    "print(initial_state_torch)\n",
    "h_gate_matrix = torch.tensor([[math.sqrt(0.5),math.sqrt(0.5)],[math.sqrt(0.5),-math.sqrt(0.5)]],dtype=torch.double)\n",
    "cx_gate_matrix = torch.tensor([[1,0,0,0],[0,1,0,0],[0,0,0,1],[0,0,1,0]],dtype=torch.double)\n",
    "\n",
    "h_gate_matrix = torch.kron(h_gate_matrix,torch.tensor([[1,0],[0,1]],dtype=torch.double))\n",
    "\n",
    "out_state_torch = torch.mm(  h_gate_matrix,initial_state_torch.t()) \n",
    "out_state_torch = torch.mm( cx_gate_matrix,out_state_torch) \n",
    "\n",
    "print(\"after matrix, the state is \",out_state_torch.t()) # Display the output state vector\n"
   ],
   "outputs": [
    {
     "name": "stdout",
     "output_type": "stream",
     "text": [
      "after gate, the state is  [0.70710678+0.j 0.        +0.j 0.        +0.j 0.70710678+0.j]\n",
      "tensor([[1., 0., 0., 0.]], dtype=torch.float64)\n",
      "after matrix, the state is  tensor([[0.7071, 0.0000, 0.0000, 0.7071]], dtype=torch.float64)\n"
     ]
    }
   ],
   "metadata": {}
  }
 ]
}